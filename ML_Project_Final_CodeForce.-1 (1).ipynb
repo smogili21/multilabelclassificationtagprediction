{
 "cells": [
  {
   "cell_type": "markdown",
   "metadata": {
    "id": "jT43PhA5n5Jn"
   },
   "source": [
    "# Multi-Label Classification using Codeforces Platform "
   ]
  },
  {
   "cell_type": "markdown",
   "metadata": {
    "id": "9LcN1i1Ln5Jq"
   },
   "source": [
    "CodeForce is a Programming language Competitive platform where Questions are posted, usually its quite challenging to come up with an approach for solving looking at the description. So, tagging for questions is essential for a better user experience. In this machine learning problem, the final goal is to predict the tag based on the Question's textual description, abbreviated as 'problem statement'.\n",
    "\n",
    "<h3>Goal and Objectives:</h3>\n",
    "\n",
    "1)Conduct Explorary Data Analysis on problem tags to analyse number of tags per question,number of words in tags and number of unigrams and multigrams in the problem statement.\n",
    "\n",
    "2)Conduct Data Pre-processing on problem statement to convert text data to lower case,remove unicode characters , html tags,stop words removal,lemma and stemming.\n",
    "\n",
    "3)Run and compare various Machine Learning algorithms(Multi-label Logistic Regression,Multi-label Random Forest Classifier and Bilstm with Embedding layer(DL algorithm))by performing hyper-parameter tuning to calculate precision,recall,f1-score,hamming-loss.\n",
    "\n"
   ]
  },
  {
   "cell_type": "code",
   "execution_count": 4,
   "metadata": {
    "colab": {
     "base_uri": "https://localhost:8080/",
     "height": 206
    },
    "id": "Dk_Z5D1bn5Jq",
    "outputId": "841da932-4836-48c7-fe5f-ca0a03171585"
   },
   "outputs": [
    {
     "data": {
      "text/html": [
       "<div>\n",
       "<style scoped>\n",
       "    .dataframe tbody tr th:only-of-type {\n",
       "        vertical-align: middle;\n",
       "    }\n",
       "\n",
       "    .dataframe tbody tr th {\n",
       "        vertical-align: top;\n",
       "    }\n",
       "\n",
       "    .dataframe thead th {\n",
       "        text-align: right;\n",
       "    }\n",
       "</style>\n",
       "<table border=\"1\" class=\"dataframe\">\n",
       "  <thead>\n",
       "    <tr style=\"text-align: right;\">\n",
       "      <th></th>\n",
       "      <th>contest</th>\n",
       "      <th>problem_name</th>\n",
       "      <th>problem_statement</th>\n",
       "      <th>problem_tags</th>\n",
       "    </tr>\n",
       "  </thead>\n",
       "  <tbody>\n",
       "    <tr>\n",
       "      <th>0</th>\n",
       "      <td>325</td>\n",
       "      <td>A</td>\n",
       "      <td>You are given n rectangles. The corners of rec...</td>\n",
       "      <td>implementation,*1500</td>\n",
       "    </tr>\n",
       "    <tr>\n",
       "      <th>1</th>\n",
       "      <td>325</td>\n",
       "      <td>B</td>\n",
       "      <td>Daniel is organizing a football tournament. He...</td>\n",
       "      <td>binarysearch,math,*1800</td>\n",
       "    </tr>\n",
       "    <tr>\n",
       "      <th>2</th>\n",
       "      <td>325</td>\n",
       "      <td>C</td>\n",
       "      <td>Piegirl has found a monster and a book about m...</td>\n",
       "      <td>dfsandsimilar,graphs,shortestpaths,*2600</td>\n",
       "    </tr>\n",
       "    <tr>\n",
       "      <th>3</th>\n",
       "      <td>325</td>\n",
       "      <td>D</td>\n",
       "      <td>In a far away land, there exists a planet shap...</td>\n",
       "      <td>dsu,*2900</td>\n",
       "    </tr>\n",
       "    <tr>\n",
       "      <th>4</th>\n",
       "      <td>325</td>\n",
       "      <td>E</td>\n",
       "      <td>Piegirl found the red button. You have one las...</td>\n",
       "      <td>combinatorics,dfsandsimilar,dsu,graphs,greedy,...</td>\n",
       "    </tr>\n",
       "  </tbody>\n",
       "</table>\n",
       "</div>"
      ],
      "text/plain": [
       "   contest problem_name                                  problem_statement  \\\n",
       "0      325            A  You are given n rectangles. The corners of rec...   \n",
       "1      325            B  Daniel is organizing a football tournament. He...   \n",
       "2      325            C  Piegirl has found a monster and a book about m...   \n",
       "3      325            D  In a far away land, there exists a planet shap...   \n",
       "4      325            E  Piegirl found the red button. You have one las...   \n",
       "\n",
       "                                        problem_tags  \n",
       "0                               implementation,*1500  \n",
       "1                            binarysearch,math,*1800  \n",
       "2           dfsandsimilar,graphs,shortestpaths,*2600  \n",
       "3                                          dsu,*2900  \n",
       "4  combinatorics,dfsandsimilar,dsu,graphs,greedy,...  "
      ]
     },
     "execution_count": 4,
     "metadata": {},
     "output_type": "execute_result"
    }
   ],
   "source": [
    "import pandas as pd\n",
    "import matplotlib.pyplot as plt\n",
    "from datetime import datetime\n",
    "import warnings\n",
    "warnings.filterwarnings('ignore')\n",
    "\n",
    "#Read the csv to dataframe.\n",
    "df = pd.read_csv(\"data.csv\")\n",
    "df.head()"
   ]
  },
  {
   "cell_type": "code",
   "execution_count": 5,
   "metadata": {
    "colab": {
     "base_uri": "https://localhost:8080/"
    },
    "id": "Wdh-s3S-n5Jt",
    "outputId": "a4bf558b-d1e3-4590-a9d7-4f60085fd59d"
   },
   "outputs": [
    {
     "name": "stdout",
     "output_type": "stream",
     "text": [
      "<class 'pandas.core.frame.DataFrame'>\n",
      "RangeIndex: 8343 entries, 0 to 8342\n",
      "Data columns (total 4 columns):\n",
      " #   Column             Non-Null Count  Dtype \n",
      "---  ------             --------------  ----- \n",
      " 0   contest            8343 non-null   int64 \n",
      " 1   problem_name       8343 non-null   object\n",
      " 2   problem_statement  8336 non-null   object\n",
      " 3   problem_tags       8279 non-null   object\n",
      "dtypes: int64(1), object(3)\n",
      "memory usage: 260.8+ KB\n"
     ]
    }
   ],
   "source": [
    "df.info()"
   ]
  },
  {
   "cell_type": "markdown",
   "metadata": {
    "id": "hVJE0EsG5cMf"
   },
   "source": [
    "<h3>Observation:</h3>\n",
    "<p>There are total of 5 columns</p>"
   ]
  },
  {
   "cell_type": "code",
   "execution_count": 6,
   "metadata": {
    "colab": {
     "base_uri": "https://localhost:8080/"
    },
    "id": "9pwPkBZfn5Jt",
    "outputId": "c46d890d-532c-4f43-8c73-8d104e65e050"
   },
   "outputs": [
    {
     "data": {
      "text/plain": [
       "contest               0\n",
       "problem_name          0\n",
       "problem_statement     7\n",
       "problem_tags         64\n",
       "dtype: int64"
      ]
     },
     "execution_count": 6,
     "metadata": {},
     "output_type": "execute_result"
    }
   ],
   "source": [
    "df.isnull().sum()"
   ]
  },
  {
   "cell_type": "code",
   "execution_count": 7,
   "metadata": {
    "colab": {
     "base_uri": "https://localhost:8080/",
     "height": 417
    },
    "id": "qzkkJpMTn5Ju",
    "outputId": "280fd4e8-5b5d-4450-820f-82cd9d47bc62"
   },
   "outputs": [
    {
     "name": "stdout",
     "output_type": "stream",
     "text": [
      "64\n"
     ]
    },
    {
     "data": {
      "text/html": [
       "<div>\n",
       "<style scoped>\n",
       "    .dataframe tbody tr th:only-of-type {\n",
       "        vertical-align: middle;\n",
       "    }\n",
       "\n",
       "    .dataframe tbody tr th {\n",
       "        vertical-align: top;\n",
       "    }\n",
       "\n",
       "    .dataframe thead th {\n",
       "        text-align: right;\n",
       "    }\n",
       "</style>\n",
       "<table border=\"1\" class=\"dataframe\">\n",
       "  <thead>\n",
       "    <tr style=\"text-align: right;\">\n",
       "      <th></th>\n",
       "      <th>contest</th>\n",
       "      <th>problem_name</th>\n",
       "      <th>problem_statement</th>\n",
       "      <th>problem_tags</th>\n",
       "      <th>problem_difficulty</th>\n",
       "      <th>problem_tags_values</th>\n",
       "    </tr>\n",
       "  </thead>\n",
       "  <tbody>\n",
       "    <tr>\n",
       "      <th>0</th>\n",
       "      <td>325</td>\n",
       "      <td>A</td>\n",
       "      <td>You are given n rectangles. The corners of rec...</td>\n",
       "      <td>implementation,*1500</td>\n",
       "      <td>1500</td>\n",
       "      <td>[implementation]</td>\n",
       "    </tr>\n",
       "    <tr>\n",
       "      <th>1</th>\n",
       "      <td>325</td>\n",
       "      <td>B</td>\n",
       "      <td>Daniel is organizing a football tournament. He...</td>\n",
       "      <td>binarysearch,math,*1800</td>\n",
       "      <td>1800</td>\n",
       "      <td>[binarysearch, math]</td>\n",
       "    </tr>\n",
       "    <tr>\n",
       "      <th>2</th>\n",
       "      <td>325</td>\n",
       "      <td>C</td>\n",
       "      <td>Piegirl has found a monster and a book about m...</td>\n",
       "      <td>dfsandsimilar,graphs,shortestpaths,*2600</td>\n",
       "      <td>2600</td>\n",
       "      <td>[dfsandsimilar, graphs, shortestpaths]</td>\n",
       "    </tr>\n",
       "    <tr>\n",
       "      <th>3</th>\n",
       "      <td>325</td>\n",
       "      <td>D</td>\n",
       "      <td>In a far away land, there exists a planet shap...</td>\n",
       "      <td>dsu,*2900</td>\n",
       "      <td>2900</td>\n",
       "      <td>[dsu]</td>\n",
       "    </tr>\n",
       "    <tr>\n",
       "      <th>4</th>\n",
       "      <td>325</td>\n",
       "      <td>E</td>\n",
       "      <td>Piegirl found the red button. You have one las...</td>\n",
       "      <td>combinatorics,dfsandsimilar,dsu,graphs,greedy,...</td>\n",
       "      <td>2800</td>\n",
       "      <td>[combinatorics, dfsandsimilar, dsu, graphs, gr...</td>\n",
       "    </tr>\n",
       "  </tbody>\n",
       "</table>\n",
       "</div>"
      ],
      "text/plain": [
       "   contest problem_name                                  problem_statement  \\\n",
       "0      325            A  You are given n rectangles. The corners of rec...   \n",
       "1      325            B  Daniel is organizing a football tournament. He...   \n",
       "2      325            C  Piegirl has found a monster and a book about m...   \n",
       "3      325            D  In a far away land, there exists a planet shap...   \n",
       "4      325            E  Piegirl found the red button. You have one las...   \n",
       "\n",
       "                                        problem_tags problem_difficulty  \\\n",
       "0                               implementation,*1500               1500   \n",
       "1                            binarysearch,math,*1800               1800   \n",
       "2           dfsandsimilar,graphs,shortestpaths,*2600               2600   \n",
       "3                                          dsu,*2900               2900   \n",
       "4  combinatorics,dfsandsimilar,dsu,graphs,greedy,...               2800   \n",
       "\n",
       "                                 problem_tags_values  \n",
       "0                                   [implementation]  \n",
       "1                               [binarysearch, math]  \n",
       "2             [dfsandsimilar, graphs, shortestpaths]  \n",
       "3                                              [dsu]  \n",
       "4  [combinatorics, dfsandsimilar, dsu, graphs, gr...  "
      ]
     },
     "execution_count": 7,
     "metadata": {},
     "output_type": "execute_result"
    }
   ],
   "source": [
    "#Separate problem difficulty from the problem tags , has prblem difficulty is not considered for tag analysis\n",
    "s=df['problem_tags'].str.split(',').str[-1]\n",
    "difficult_values=s.str.isnumeric()\n",
    "count=0\n",
    "for val in difficult_values:\n",
    "    if(val):\n",
    "        count+=1\n",
    "        df['problem_difficulty']=df['problem_tags'].str.split(',').str[-1]\n",
    "        df[\"problem_difficulty\"] = df[\"problem_difficulty\"].apply(lambda x:str(x)[1:])\n",
    "        df['problem_tags_values']=df['problem_tags'].str.split(',').str[:-1]    \n",
    "print(count)\n",
    "df.head()"
   ]
  },
  {
   "cell_type": "code",
   "execution_count": 8,
   "metadata": {
    "id": "lnyE3kesn5Ju"
   },
   "outputs": [],
   "source": [
    "erow_indices_to_drop = [ x for x in list(range(df.shape[0])) if df[\"problem_tags_values\"].iloc[x] == []]"
   ]
  },
  {
   "cell_type": "code",
   "execution_count": 9,
   "metadata": {
    "id": "DZfSzRzNn5Jv"
   },
   "outputs": [],
   "source": [
    "df[\"problem_tags_values\"].describe()\n",
    "row_indices_to_drop = [ x for x in list(range(df.shape[0])) if df[\"problem_tags_values\"].iloc[x] == []]"
   ]
  },
  {
   "cell_type": "code",
   "execution_count": 10,
   "metadata": {
    "id": "lo-EWmATn5Jv"
   },
   "outputs": [],
   "source": [
    "#Drop the empty values with empty  problem tags\n",
    "df = df.drop(row_indices_to_drop)"
   ]
  },
  {
   "cell_type": "code",
   "execution_count": 11,
   "metadata": {
    "colab": {
     "base_uri": "https://localhost:8080/",
     "height": 400
    },
    "id": "QhA-nhJ-n5Jw",
    "outputId": "9d2b50cf-4b9a-40c9-9582-b5d9d8667929"
   },
   "outputs": [
    {
     "data": {
      "text/html": [
       "<div>\n",
       "<style scoped>\n",
       "    .dataframe tbody tr th:only-of-type {\n",
       "        vertical-align: middle;\n",
       "    }\n",
       "\n",
       "    .dataframe tbody tr th {\n",
       "        vertical-align: top;\n",
       "    }\n",
       "\n",
       "    .dataframe thead th {\n",
       "        text-align: right;\n",
       "    }\n",
       "</style>\n",
       "<table border=\"1\" class=\"dataframe\">\n",
       "  <thead>\n",
       "    <tr style=\"text-align: right;\">\n",
       "      <th></th>\n",
       "      <th>contest</th>\n",
       "      <th>problem_name</th>\n",
       "      <th>problem_statement</th>\n",
       "      <th>problem_tags</th>\n",
       "      <th>problem_difficulty</th>\n",
       "      <th>problem_tags_values</th>\n",
       "    </tr>\n",
       "  </thead>\n",
       "  <tbody>\n",
       "    <tr>\n",
       "      <th>0</th>\n",
       "      <td>325</td>\n",
       "      <td>A</td>\n",
       "      <td>You are given n rectangles. The corners of rec...</td>\n",
       "      <td>implementation,*1500</td>\n",
       "      <td>1500</td>\n",
       "      <td>[implementation]</td>\n",
       "    </tr>\n",
       "    <tr>\n",
       "      <th>1</th>\n",
       "      <td>325</td>\n",
       "      <td>B</td>\n",
       "      <td>Daniel is organizing a football tournament. He...</td>\n",
       "      <td>binarysearch,math,*1800</td>\n",
       "      <td>1800</td>\n",
       "      <td>[binarysearch, math]</td>\n",
       "    </tr>\n",
       "    <tr>\n",
       "      <th>2</th>\n",
       "      <td>325</td>\n",
       "      <td>C</td>\n",
       "      <td>Piegirl has found a monster and a book about m...</td>\n",
       "      <td>dfsandsimilar,graphs,shortestpaths,*2600</td>\n",
       "      <td>2600</td>\n",
       "      <td>[dfsandsimilar, graphs, shortestpaths]</td>\n",
       "    </tr>\n",
       "    <tr>\n",
       "      <th>3</th>\n",
       "      <td>325</td>\n",
       "      <td>D</td>\n",
       "      <td>In a far away land, there exists a planet shap...</td>\n",
       "      <td>dsu,*2900</td>\n",
       "      <td>2900</td>\n",
       "      <td>[dsu]</td>\n",
       "    </tr>\n",
       "    <tr>\n",
       "      <th>4</th>\n",
       "      <td>325</td>\n",
       "      <td>E</td>\n",
       "      <td>Piegirl found the red button. You have one las...</td>\n",
       "      <td>combinatorics,dfsandsimilar,dsu,graphs,greedy,...</td>\n",
       "      <td>2800</td>\n",
       "      <td>[combinatorics, dfsandsimilar, dsu, graphs, gr...</td>\n",
       "    </tr>\n",
       "  </tbody>\n",
       "</table>\n",
       "</div>"
      ],
      "text/plain": [
       "   contest problem_name                                  problem_statement  \\\n",
       "0      325            A  You are given n rectangles. The corners of rec...   \n",
       "1      325            B  Daniel is organizing a football tournament. He...   \n",
       "2      325            C  Piegirl has found a monster and a book about m...   \n",
       "3      325            D  In a far away land, there exists a planet shap...   \n",
       "4      325            E  Piegirl found the red button. You have one las...   \n",
       "\n",
       "                                        problem_tags problem_difficulty  \\\n",
       "0                               implementation,*1500               1500   \n",
       "1                            binarysearch,math,*1800               1800   \n",
       "2           dfsandsimilar,graphs,shortestpaths,*2600               2600   \n",
       "3                                          dsu,*2900               2900   \n",
       "4  combinatorics,dfsandsimilar,dsu,graphs,greedy,...               2800   \n",
       "\n",
       "                                 problem_tags_values  \n",
       "0                                   [implementation]  \n",
       "1                               [binarysearch, math]  \n",
       "2             [dfsandsimilar, graphs, shortestpaths]  \n",
       "3                                              [dsu]  \n",
       "4  [combinatorics, dfsandsimilar, dsu, graphs, gr...  "
      ]
     },
     "execution_count": 11,
     "metadata": {},
     "output_type": "execute_result"
    }
   ],
   "source": [
    "df[\"problem_tags_values\"].describe()\n",
    "df.head()"
   ]
  },
  {
   "cell_type": "code",
   "execution_count": 12,
   "metadata": {
    "id": "O9VnQkQjn5Jw"
   },
   "outputs": [],
   "source": [
    "#Drop the missing values from dataframe\n",
    "df = df.dropna()"
   ]
  },
  {
   "cell_type": "code",
   "execution_count": 13,
   "metadata": {
    "colab": {
     "base_uri": "https://localhost:8080/",
     "height": 363
    },
    "id": "UErPNm74n5Jy",
    "outputId": "fec7bbe0-87d8-4b09-96e8-8b49ac91a595"
   },
   "outputs": [
    {
     "data": {
      "text/html": [
       "<div>\n",
       "<style scoped>\n",
       "    .dataframe tbody tr th:only-of-type {\n",
       "        vertical-align: middle;\n",
       "    }\n",
       "\n",
       "    .dataframe tbody tr th {\n",
       "        vertical-align: top;\n",
       "    }\n",
       "\n",
       "    .dataframe thead th {\n",
       "        text-align: right;\n",
       "    }\n",
       "</style>\n",
       "<table border=\"1\" class=\"dataframe\">\n",
       "  <thead>\n",
       "    <tr style=\"text-align: right;\">\n",
       "      <th></th>\n",
       "      <th>Tag</th>\n",
       "      <th>Count</th>\n",
       "    </tr>\n",
       "  </thead>\n",
       "  <tbody>\n",
       "    <tr>\n",
       "      <th>0</th>\n",
       "      <td>implementation</td>\n",
       "      <td>2199</td>\n",
       "    </tr>\n",
       "    <tr>\n",
       "      <th>1</th>\n",
       "      <td>math</td>\n",
       "      <td>1989</td>\n",
       "    </tr>\n",
       "    <tr>\n",
       "      <th>2</th>\n",
       "      <td>greedy</td>\n",
       "      <td>1943</td>\n",
       "    </tr>\n",
       "    <tr>\n",
       "      <th>3</th>\n",
       "      <td>dp</td>\n",
       "      <td>1668</td>\n",
       "    </tr>\n",
       "    <tr>\n",
       "      <th>4</th>\n",
       "      <td>datastructures</td>\n",
       "      <td>1284</td>\n",
       "    </tr>\n",
       "    <tr>\n",
       "      <th>5</th>\n",
       "      <td>constructivealgorithms</td>\n",
       "      <td>1176</td>\n",
       "    </tr>\n",
       "    <tr>\n",
       "      <th>6</th>\n",
       "      <td>bruteforce</td>\n",
       "      <td>1168</td>\n",
       "    </tr>\n",
       "    <tr>\n",
       "      <th>7</th>\n",
       "      <td>graphs</td>\n",
       "      <td>893</td>\n",
       "    </tr>\n",
       "    <tr>\n",
       "      <th>8</th>\n",
       "      <td>binarysearch</td>\n",
       "      <td>785</td>\n",
       "    </tr>\n",
       "    <tr>\n",
       "      <th>9</th>\n",
       "      <td>sortings</td>\n",
       "      <td>750</td>\n",
       "    </tr>\n",
       "  </tbody>\n",
       "</table>\n",
       "</div>"
      ],
      "text/plain": [
       "                      Tag  Count\n",
       "0          implementation   2199\n",
       "1                    math   1989\n",
       "2                  greedy   1943\n",
       "3                      dp   1668\n",
       "4          datastructures   1284\n",
       "5  constructivealgorithms   1176\n",
       "6              bruteforce   1168\n",
       "7                  graphs    893\n",
       "8            binarysearch    785\n",
       "9                sortings    750"
      ]
     },
     "execution_count": 13,
     "metadata": {},
     "output_type": "execute_result"
    }
   ],
   "source": [
    "#Calculate number of problem tags in the dataset\n",
    "tags_dict = {}\n",
    "for allTags in df[\"problem_tags_values\"]:\n",
    "    for tag in allTags :\n",
    "        if tag not in tags_dict:\n",
    "            tags_dict[tag] = 0 \n",
    "        tags_dict[tag] += 1 \n",
    "\n",
    "tags_dict_sorted = dict(sorted(tags_dict.items(), key = lambda x: x[1], reverse = True))\n",
    "tag_count = {\"Tag\":list(tags_dict_sorted.keys()), \"Count\": list(tags_dict_sorted.values())}\n",
    "count_df = pd.DataFrame(data = tag_count)\n",
    "count_df[:10]"
   ]
  },
  {
   "cell_type": "code",
   "execution_count": 14,
   "metadata": {
    "id": "6HzpzOSad2M3"
   },
   "outputs": [],
   "source": [
    "tags_dict = {}\n",
    "for allTags in df[\"problem_tags_values\"]:\n",
    "    for tag in allTags :\n",
    "        if tag not in tags_dict:\n",
    "            tags_dict[tag] = 0 \n",
    "        tags_dict[tag] += 1 \n",
    "\n",
    "tags_dict_sorted = dict(sorted(tags_dict.items(), key = lambda x: x[1], reverse = True))\n",
    "tag_count = {\"Tag\":list(tags_dict_sorted.keys()), \"Count\": list(tags_dict_sorted.values())}\n",
    "count_df = pd.DataFrame(data = tag_count)\n",
    "total_tags=count_df.Tag"
   ]
  },
  {
   "cell_type": "code",
   "execution_count": 15,
   "metadata": {
    "colab": {
     "base_uri": "https://localhost:8080/",
     "height": 694
    },
    "id": "veQhjzMIn5Jy",
    "outputId": "f640e329-1f59-432d-e6f7-806f4a54b280"
   },
   "outputs": [
    {
     "data": {
      "text/plain": [
       "Text(0.5, 1.0, 'Top 20 Highest occurring Tags')"
      ]
     },
     "execution_count": 15,
     "metadata": {},
     "output_type": "execute_result"
    },
    {
     "data": {
      "image/png": "[encoded data removed]",
      "text/plain": [
       "<Figure size 1296x720 with 1 Axes>"
      ]
     },
     "metadata": {
      "needs_background": "light"
     },
     "output_type": "display_data"
    }
   ],
   "source": [
    "axes = count_df.head(20).plot(x = 'Tag', y = 'Count', kind = 'bar', figsize = (18, 10), fontsize = 15, grid = True)\n",
    "plt.xlabel(\"\")\n",
    "plt.ylabel(\"Count\", fontsize = 20)\n",
    "plt.title(\"Top 20 Highest occurring Tags\", fontsize = 20)"
   ]
  },
  {
   "cell_type": "markdown",
   "metadata": {
    "id": "jmjZZGpan5Jz"
   },
   "source": [
    "<h3> Observations:</h3>\n",
    "<p> Majority of the most frequent tags are implementation and maths tags</p>"
   ]
  },
  {
   "cell_type": "code",
   "execution_count": 16,
   "metadata": {
    "id": "dNQNAs3En5Jz"
   },
   "outputs": [],
   "source": [
    "#Converting the dataframe column to string value.\n",
    "df[\"problem_tags_values\"] = df[\"problem_tags_values\"].apply(lambda x:\" \".join(x))"
   ]
  },
  {
   "cell_type": "code",
   "execution_count": 17,
   "metadata": {
    "colab": {
     "base_uri": "https://localhost:8080/"
    },
    "id": "rUErwUJon5Jz",
    "outputId": "d5589f3d-5c29-4990-d430-f6a2eb353382"
   },
   "outputs": [
    {
     "data": {
      "text/plain": [
       "contest                0\n",
       "problem_name           0\n",
       "problem_statement      0\n",
       "problem_tags           0\n",
       "problem_difficulty     0\n",
       "problem_tags_values    0\n",
       "dtype: int64"
      ]
     },
     "execution_count": 17,
     "metadata": {},
     "output_type": "execute_result"
    }
   ],
   "source": [
    "df.isnull().sum()\n"
   ]
  },
  {
   "cell_type": "markdown",
   "metadata": {
    "id": "XTO2AXnL5cMn"
   },
   "source": [
    "<h3>Observation:</h3>\n",
    "<p>From the above we can conclude that null values are removed from the dataframe.</p>"
   ]
  },
  {
   "cell_type": "code",
   "execution_count": 18,
   "metadata": {
    "id": "H6535vQpn5J0"
   },
   "outputs": [],
   "source": [
    "#Drop the column problem_tags as they are segregated into separate columns.\n",
    "df = df.drop('problem_tags', 1)"
   ]
  },
  {
   "cell_type": "code",
   "execution_count": 19,
   "metadata": {
    "id": "ImR3lR--n5J1"
   },
   "outputs": [],
   "source": [
    "# Check if there are duplicate data points in the Problem statement.\n",
    "df2=df.groupby(df.columns.tolist(),as_index=False).size()"
   ]
  },
  {
   "cell_type": "code",
   "execution_count": 20,
   "metadata": {
    "colab": {
     "base_uri": "https://localhost:8080/",
     "height": 510
    },
    "id": "eObCm9qGn5J1",
    "outputId": "2399deca-d183-4c00-8984-4b1ff79df8dd"
   },
   "outputs": [
    {
     "data": {
      "text/html": [
       "<div>\n",
       "<style scoped>\n",
       "    .dataframe tbody tr th:only-of-type {\n",
       "        vertical-align: middle;\n",
       "    }\n",
       "\n",
       "    .dataframe tbody tr th {\n",
       "        vertical-align: top;\n",
       "    }\n",
       "\n",
       "    .dataframe thead th {\n",
       "        text-align: right;\n",
       "    }\n",
       "</style>\n",
       "<table border=\"1\" class=\"dataframe\">\n",
       "  <thead>\n",
       "    <tr style=\"text-align: right;\">\n",
       "      <th></th>\n",
       "      <th>contest</th>\n",
       "      <th>problem_name</th>\n",
       "      <th>problem_statement</th>\n",
       "      <th>problem_difficulty</th>\n",
       "      <th>problem_tags_values</th>\n",
       "      <th>size</th>\n",
       "    </tr>\n",
       "  </thead>\n",
       "  <tbody>\n",
       "    <tr>\n",
       "      <th>0</th>\n",
       "      <td>1</td>\n",
       "      <td>A</td>\n",
       "      <td>Theatre Square in the capital city of Berland ...</td>\n",
       "      <td>1000</td>\n",
       "      <td>math</td>\n",
       "      <td>1</td>\n",
       "    </tr>\n",
       "    <tr>\n",
       "      <th>1</th>\n",
       "      <td>1</td>\n",
       "      <td>B</td>\n",
       "      <td>In the popular spreadsheets systems (for examp...</td>\n",
       "      <td>1600</td>\n",
       "      <td>implementation math</td>\n",
       "      <td>1</td>\n",
       "    </tr>\n",
       "    <tr>\n",
       "      <th>2</th>\n",
       "      <td>1</td>\n",
       "      <td>C</td>\n",
       "      <td>Nowadays all circuses in Berland have a round ...</td>\n",
       "      <td>2100</td>\n",
       "      <td>geometry math</td>\n",
       "      <td>1</td>\n",
       "    </tr>\n",
       "    <tr>\n",
       "      <th>3</th>\n",
       "      <td>2</td>\n",
       "      <td>A</td>\n",
       "      <td>The winner of the card game popular in Berland...</td>\n",
       "      <td>1500</td>\n",
       "      <td>hashing implementation</td>\n",
       "      <td>1</td>\n",
       "    </tr>\n",
       "    <tr>\n",
       "      <th>4</th>\n",
       "      <td>2</td>\n",
       "      <td>B</td>\n",
       "      <td>There is a square matrix n × n, consisting of ...</td>\n",
       "      <td>2000</td>\n",
       "      <td>dp math</td>\n",
       "      <td>1</td>\n",
       "    </tr>\n",
       "    <tr>\n",
       "      <th>...</th>\n",
       "      <td>...</td>\n",
       "      <td>...</td>\n",
       "      <td>...</td>\n",
       "      <td>...</td>\n",
       "      <td>...</td>\n",
       "      <td>...</td>\n",
       "    </tr>\n",
       "    <tr>\n",
       "      <th>7837</th>\n",
       "      <td>1549</td>\n",
       "      <td>C</td>\n",
       "      <td>There are $$$n$$$ nobles, numbered from $$$1$$...</td>\n",
       "      <td>reedy</td>\n",
       "      <td>graphs</td>\n",
       "      <td>1</td>\n",
       "    </tr>\n",
       "    <tr>\n",
       "      <th>7838</th>\n",
       "      <td>1549</td>\n",
       "      <td>D</td>\n",
       "      <td>British mathematician John Littlewood once sai...</td>\n",
       "      <td>wopointers</td>\n",
       "      <td>binarysearch datastructures math</td>\n",
       "      <td>1</td>\n",
       "    </tr>\n",
       "    <tr>\n",
       "      <th>7839</th>\n",
       "      <td>1549</td>\n",
       "      <td>E</td>\n",
       "      <td>Three little pigs from all over the world are ...</td>\n",
       "      <td>ath</td>\n",
       "      <td>combinatorics dp fft</td>\n",
       "      <td>1</td>\n",
       "    </tr>\n",
       "    <tr>\n",
       "      <th>7840</th>\n",
       "      <td>1549</td>\n",
       "      <td>F1</td>\n",
       "      <td>This is the easy version of the problem. The o...</td>\n",
       "      <td>umbertheory</td>\n",
       "      <td>geometry</td>\n",
       "      <td>1</td>\n",
       "    </tr>\n",
       "    <tr>\n",
       "      <th>7841</th>\n",
       "      <td>1549</td>\n",
       "      <td>F2</td>\n",
       "      <td>This is the hard version of the problem. The o...</td>\n",
       "      <td>umbertheory</td>\n",
       "      <td>geometry</td>\n",
       "      <td>1</td>\n",
       "    </tr>\n",
       "  </tbody>\n",
       "</table>\n",
       "<p>7842 rows × 6 columns</p>\n",
       "</div>"
      ],
      "text/plain": [
       "      contest problem_name                                  problem_statement  \\\n",
       "0           1            A  Theatre Square in the capital city of Berland ...   \n",
       "1           1            B  In the popular spreadsheets systems (for examp...   \n",
       "2           1            C  Nowadays all circuses in Berland have a round ...   \n",
       "3           2            A  The winner of the card game popular in Berland...   \n",
       "4           2            B  There is a square matrix n × n, consisting of ...   \n",
       "...       ...          ...                                                ...   \n",
       "7837     1549            C  There are $$$n$$$ nobles, numbered from $$$1$$...   \n",
       "7838     1549            D  British mathematician John Littlewood once sai...   \n",
       "7839     1549            E  Three little pigs from all over the world are ...   \n",
       "7840     1549           F1  This is the easy version of the problem. The o...   \n",
       "7841     1549           F2  This is the hard version of the problem. The o...   \n",
       "\n",
       "     problem_difficulty               problem_tags_values  size  \n",
       "0                  1000                              math     1  \n",
       "1                  1600               implementation math     1  \n",
       "2                  2100                     geometry math     1  \n",
       "3                  1500            hashing implementation     1  \n",
       "4                  2000                           dp math     1  \n",
       "...                 ...                               ...   ...  \n",
       "7837              reedy                            graphs     1  \n",
       "7838         wopointers  binarysearch datastructures math     1  \n",
       "7839                ath              combinatorics dp fft     1  \n",
       "7840        umbertheory                          geometry     1  \n",
       "7841        umbertheory                          geometry     1  \n",
       "\n",
       "[7842 rows x 6 columns]"
      ]
     },
     "execution_count": 20,
     "metadata": {},
     "output_type": "execute_result"
    }
   ],
   "source": [
    "df2"
   ]
  },
  {
   "cell_type": "code",
   "execution_count": 21,
   "metadata": {
    "colab": {
     "base_uri": "https://localhost:8080/",
     "height": 112
    },
    "id": "OP2k5zTKn5J1",
    "outputId": "2aadfb52-b075-4790-9153-9a1b7ed6053e"
   },
   "outputs": [
    {
     "data": {
      "text/html": [
       "<div>\n",
       "<style scoped>\n",
       "    .dataframe tbody tr th:only-of-type {\n",
       "        vertical-align: middle;\n",
       "    }\n",
       "\n",
       "    .dataframe tbody tr th {\n",
       "        vertical-align: top;\n",
       "    }\n",
       "\n",
       "    .dataframe thead th {\n",
       "        text-align: right;\n",
       "    }\n",
       "</style>\n",
       "<table border=\"1\" class=\"dataframe\">\n",
       "  <thead>\n",
       "    <tr style=\"text-align: right;\">\n",
       "      <th></th>\n",
       "      <th>contest</th>\n",
       "      <th>problem_name</th>\n",
       "      <th>problem_statement</th>\n",
       "      <th>problem_difficulty</th>\n",
       "      <th>problem_tags_values</th>\n",
       "    </tr>\n",
       "    <tr>\n",
       "      <th>size</th>\n",
       "      <th></th>\n",
       "      <th></th>\n",
       "      <th></th>\n",
       "      <th></th>\n",
       "      <th></th>\n",
       "    </tr>\n",
       "  </thead>\n",
       "  <tbody>\n",
       "    <tr>\n",
       "      <th>1</th>\n",
       "      <td>7842</td>\n",
       "      <td>7842</td>\n",
       "      <td>7842</td>\n",
       "      <td>7842</td>\n",
       "      <td>7842</td>\n",
       "    </tr>\n",
       "  </tbody>\n",
       "</table>\n",
       "</div>"
      ],
      "text/plain": [
       "      contest  problem_name  problem_statement  problem_difficulty  \\\n",
       "size                                                                 \n",
       "1        7842          7842               7842                7842   \n",
       "\n",
       "      problem_tags_values  \n",
       "size                       \n",
       "1                    7842  "
      ]
     },
     "execution_count": 21,
     "metadata": {},
     "output_type": "execute_result"
    }
   ],
   "source": [
    "df2.groupby('size').count()"
   ]
  },
  {
   "cell_type": "markdown",
   "metadata": {
    "id": "3l7F2M6K5cMp"
   },
   "source": [
    "<h3>Observation: </h3>\n",
    "<p>No Duplicate data points that is denoted by the value in 1.</p>"
   ]
  },
  {
   "cell_type": "code",
   "execution_count": 22,
   "metadata": {
    "colab": {
     "base_uri": "https://localhost:8080/",
     "height": 597
    },
    "id": "kDMvKEktn5J2",
    "outputId": "3dc7af7e-0d99-46aa-dac7-a44696e9fede"
   },
   "outputs": [
    {
     "data": {
      "text/html": [
       "<div>\n",
       "<style scoped>\n",
       "    .dataframe tbody tr th:only-of-type {\n",
       "        vertical-align: middle;\n",
       "    }\n",
       "\n",
       "    .dataframe tbody tr th {\n",
       "        vertical-align: top;\n",
       "    }\n",
       "\n",
       "    .dataframe thead th {\n",
       "        text-align: right;\n",
       "    }\n",
       "</style>\n",
       "<table border=\"1\" class=\"dataframe\">\n",
       "  <thead>\n",
       "    <tr style=\"text-align: right;\">\n",
       "      <th></th>\n",
       "      <th>contest</th>\n",
       "      <th>problem_name</th>\n",
       "      <th>problem_statement</th>\n",
       "      <th>problem_difficulty</th>\n",
       "      <th>problem_tags_values</th>\n",
       "      <th>tags_count</th>\n",
       "    </tr>\n",
       "  </thead>\n",
       "  <tbody>\n",
       "    <tr>\n",
       "      <th>0</th>\n",
       "      <td>325</td>\n",
       "      <td>A</td>\n",
       "      <td>You are given n rectangles. The corners of rec...</td>\n",
       "      <td>1500</td>\n",
       "      <td>implementation</td>\n",
       "      <td>1</td>\n",
       "    </tr>\n",
       "    <tr>\n",
       "      <th>1</th>\n",
       "      <td>325</td>\n",
       "      <td>B</td>\n",
       "      <td>Daniel is organizing a football tournament. He...</td>\n",
       "      <td>1800</td>\n",
       "      <td>binarysearch math</td>\n",
       "      <td>2</td>\n",
       "    </tr>\n",
       "    <tr>\n",
       "      <th>2</th>\n",
       "      <td>325</td>\n",
       "      <td>C</td>\n",
       "      <td>Piegirl has found a monster and a book about m...</td>\n",
       "      <td>2600</td>\n",
       "      <td>dfsandsimilar graphs shortestpaths</td>\n",
       "      <td>3</td>\n",
       "    </tr>\n",
       "    <tr>\n",
       "      <th>3</th>\n",
       "      <td>325</td>\n",
       "      <td>D</td>\n",
       "      <td>In a far away land, there exists a planet shap...</td>\n",
       "      <td>2900</td>\n",
       "      <td>dsu</td>\n",
       "      <td>1</td>\n",
       "    </tr>\n",
       "    <tr>\n",
       "      <th>4</th>\n",
       "      <td>325</td>\n",
       "      <td>E</td>\n",
       "      <td>Piegirl found the red button. You have one las...</td>\n",
       "      <td>2800</td>\n",
       "      <td>combinatorics dfsandsimilar dsu graphs greedy</td>\n",
       "      <td>5</td>\n",
       "    </tr>\n",
       "    <tr>\n",
       "      <th>...</th>\n",
       "      <td>...</td>\n",
       "      <td>...</td>\n",
       "      <td>...</td>\n",
       "      <td>...</td>\n",
       "      <td>...</td>\n",
       "      <td>...</td>\n",
       "    </tr>\n",
       "    <tr>\n",
       "      <th>8338</th>\n",
       "      <td>1271</td>\n",
       "      <td>B</td>\n",
       "      <td>There are $$$n$$$ blocks arranged in a row and...</td>\n",
       "      <td>1300</td>\n",
       "      <td>greedy math</td>\n",
       "      <td>2</td>\n",
       "    </tr>\n",
       "    <tr>\n",
       "      <th>8339</th>\n",
       "      <td>1271</td>\n",
       "      <td>C</td>\n",
       "      <td>The map of the capital of Berland can be viewe...</td>\n",
       "      <td>1300</td>\n",
       "      <td>bruteforce geometry greedy implementation</td>\n",
       "      <td>4</td>\n",
       "    </tr>\n",
       "    <tr>\n",
       "      <th>8340</th>\n",
       "      <td>1271</td>\n",
       "      <td>D</td>\n",
       "      <td>You play a strategic video game (yeah, we ran ...</td>\n",
       "      <td>2100</td>\n",
       "      <td>datastructures dp greedy implementation sortings</td>\n",
       "      <td>5</td>\n",
       "    </tr>\n",
       "    <tr>\n",
       "      <th>8341</th>\n",
       "      <td>1271</td>\n",
       "      <td>E</td>\n",
       "      <td>At first, let's define function $$$f(x)$$$ as ...</td>\n",
       "      <td>2100</td>\n",
       "      <td>binarysearch combinatorics dp math</td>\n",
       "      <td>4</td>\n",
       "    </tr>\n",
       "    <tr>\n",
       "      <th>8342</th>\n",
       "      <td>1271</td>\n",
       "      <td>F</td>\n",
       "      <td>Recently a lot of students were enrolled in Be...</td>\n",
       "      <td>2700</td>\n",
       "      <td>bruteforce</td>\n",
       "      <td>1</td>\n",
       "    </tr>\n",
       "  </tbody>\n",
       "</table>\n",
       "<p>7842 rows × 6 columns</p>\n",
       "</div>"
      ],
      "text/plain": [
       "      contest problem_name                                  problem_statement  \\\n",
       "0         325            A  You are given n rectangles. The corners of rec...   \n",
       "1         325            B  Daniel is organizing a football tournament. He...   \n",
       "2         325            C  Piegirl has found a monster and a book about m...   \n",
       "3         325            D  In a far away land, there exists a planet shap...   \n",
       "4         325            E  Piegirl found the red button. You have one las...   \n",
       "...       ...          ...                                                ...   \n",
       "8338     1271            B  There are $$$n$$$ blocks arranged in a row and...   \n",
       "8339     1271            C  The map of the capital of Berland can be viewe...   \n",
       "8340     1271            D  You play a strategic video game (yeah, we ran ...   \n",
       "8341     1271            E  At first, let's define function $$$f(x)$$$ as ...   \n",
       "8342     1271            F  Recently a lot of students were enrolled in Be...   \n",
       "\n",
       "     problem_difficulty                               problem_tags_values  \\\n",
       "0                  1500                                    implementation   \n",
       "1                  1800                                 binarysearch math   \n",
       "2                  2600                dfsandsimilar graphs shortestpaths   \n",
       "3                  2900                                               dsu   \n",
       "4                  2800     combinatorics dfsandsimilar dsu graphs greedy   \n",
       "...                 ...                                               ...   \n",
       "8338               1300                                       greedy math   \n",
       "8339               1300         bruteforce geometry greedy implementation   \n",
       "8340               2100  datastructures dp greedy implementation sortings   \n",
       "8341               2100                binarysearch combinatorics dp math   \n",
       "8342               2700                                        bruteforce   \n",
       "\n",
       "      tags_count  \n",
       "0              1  \n",
       "1              2  \n",
       "2              3  \n",
       "3              1  \n",
       "4              5  \n",
       "...          ...  \n",
       "8338           2  \n",
       "8339           4  \n",
       "8340           5  \n",
       "8341           4  \n",
       "8342           1  \n",
       "\n",
       "[7842 rows x 6 columns]"
      ]
     },
     "execution_count": 22,
     "metadata": {},
     "output_type": "execute_result"
    }
   ],
   "source": [
    "# Calculate the number of tags per Question which is denoted by 'tags_count'\n",
    "df['tags_count'] = [len(i.split(\" \")) for i in df[\"problem_tags_values\"] ]\n",
    "df"
   ]
  },
  {
   "cell_type": "code",
   "execution_count": 23,
   "metadata": {
    "colab": {
     "base_uri": "https://localhost:8080/"
    },
    "id": "QjDSZhDMn5J2",
    "outputId": "0d0ac1a6-5336-4f22-f606-610e9427b574"
   },
   "outputs": [
    {
     "name": "stdout",
     "output_type": "stream",
     "text": [
      "Maximum tags per question:11\n",
      "Minimum tags per question:1\n",
      "Mean tags per question:2.561463912267279\n",
      "Median tags per question:2.0\n"
     ]
    }
   ],
   "source": [
    "#Find the maximum, minimum and mean tags per question.\n",
    "min_tag_count = df[\"tags_count\"].min()\n",
    "max_tag_count = df[\"tags_count\"].max()\n",
    "avg_tag_count = df[\"tags_count\"].mean()\n",
    "meadian_tag_count = df[\"tags_count\"].median()\n",
    "\n",
    "print(\"Maximum tags per question:\" + str(max_tag_count))\n",
    "print(\"Minimum tags per question:\" + str(min_tag_count))\n",
    "print(\"Mean tags per question:\" + str(avg_tag_count))\n",
    "print(\"Median tags per question:\" + str(meadian_tag_count))"
   ]
  },
  {
   "cell_type": "code",
   "execution_count": 24,
   "metadata": {
    "colab": {
     "base_uri": "https://localhost:8080/"
    },
    "id": "zwPn62f3n5J3",
    "outputId": "df34b617-3433-4b08-dd77-60eb18f05586"
   },
   "outputs": [
    {
     "data": {
      "text/plain": [
       "2     2533\n",
       "3     1992\n",
       "1     1709\n",
       "4      994\n",
       "5      401\n",
       "6      157\n",
       "7       39\n",
       "8       15\n",
       "9        1\n",
       "11       1\n",
       "Name: tags_count, dtype: int64"
      ]
     },
     "execution_count": 24,
     "metadata": {},
     "output_type": "execute_result"
    }
   ],
   "source": [
    "df['tags_count'].value_counts()"
   ]
  },
  {
   "cell_type": "markdown",
   "metadata": {
    "id": "-eoslH1Sn5J3"
   },
   "source": [
    "   <h3>Observations:</h3>\n",
    "<ul>1.Maximum number of tags per question: 11 </ul>\n",
    "<ul>2.Minimum number of tags per question: 1 </ul>\n",
    "<ul>3.Avg. number of tags per question: 2.561 </ul>\n",
    "<ul>4.Most of the questions are having 2 or 3 tags </ul>"
   ]
  },
  {
   "cell_type": "markdown",
   "metadata": {
    "id": "z6AcklAD5cMq"
   },
   "source": [
    "<h3>Plot to show number of words in the Tags</h3>"
   ]
  },
  {
   "cell_type": "code",
   "execution_count": 25,
   "metadata": {
    "id": "Btxv6yr85cMq"
   },
   "outputs": [],
   "source": [
    "\n",
    "tag_word_count=[len(list(tags_dict_sorted.keys())[list(tags_dict_sorted.keys()).index(index)]) for index in list(tags_dict_sorted.keys())]\n",
    "tags=list(tags_dict_sorted.keys())\n"
   ]
  },
  {
   "cell_type": "code",
   "execution_count": 26,
   "metadata": {
    "colab": {
     "base_uri": "https://localhost:8080/",
     "height": 435
    },
    "id": "beVSwI4m5cMq",
    "outputId": "fd4a43f3-06c6-43f4-d155-5d48d59bbe5e"
   },
   "outputs": [
    {
     "data": {
      "text/plain": [
       "Text(0, 0.5, 'Count of words in the Tags')"
      ]
     },
     "execution_count": 26,
     "metadata": {},
     "output_type": "execute_result"
    },
    {
     "data": {
      "image/png": "[encoded data removed]",
      "text/plain": [
       "<Figure size 432x288 with 1 Axes>"
      ]
     },
     "metadata": {
      "needs_background": "light"
     },
     "output_type": "display_data"
    }
   ],
   "source": [
    "d = {'Tag_word_count': tag_word_count, 'Tags': tags}\n",
    "df_tag_word_count = pd.DataFrame(data=d)\n",
    "df_tag_word_count\n",
    "\n",
    "plot_tags=df_tag_word_count.plot(kind=\"bar\",x='Tags', width=0.8)\n",
    "plt.title('Plot to show number of words in the Tags')\n",
    "plt.xlabel('Tags')\n",
    "plt.ylabel('Count of words in the Tags')"
   ]
  },
  {
   "cell_type": "markdown",
   "metadata": {
    "id": "gkIe5cxM5cMq"
   },
   "source": [
    "<h3>Bi-gram and Multi-gram Analysis for Problem Tags</h3>"
   ]
  },
  {
   "cell_type": "code",
   "execution_count": 27,
   "metadata": {
    "colab": {
     "base_uri": "https://localhost:8080/"
    },
    "id": "zRtXuBE95cMq",
    "outputId": "561a31a4-132e-448e-ba71-fe978e84accb"
   },
   "outputs": [
    {
     "name": "stdout",
     "output_type": "stream",
     "text": [
      "Total tokenized words: 20087\n",
      "Number of unigrams in the dataset are: 1709\n",
      "Number of Multigrams in the dataset are: 18378\n"
     ]
    }
   ],
   "source": [
    "count_multigrams=0\n",
    "count_datapoints=0\n",
    "\n",
    "tag_value_list=df.problem_tags_values\n",
    "\n",
    "for i in tag_value_list:\n",
    "    for j, x in enumerate(i.split()):\n",
    "        a=i.split()\n",
    "        count_datapoints+=1\n",
    "        if(len(a)>1):\n",
    "            count_multigrams+=1\n",
    "print(\"Total tokenized words:\",count_datapoints)\n",
    "print(\"Number of unigrams in the dataset are:\",count_datapoints-count_multigrams)\n",
    "print(\"Number of Multigrams in the dataset are:\",count_multigrams)"
   ]
  },
  {
   "cell_type": "code",
   "execution_count": 28,
   "metadata": {
    "colab": {
     "base_uri": "https://localhost:8080/",
     "height": 264
    },
    "id": "5NVk-2Bs5cMr",
    "outputId": "88d6026a-73b7-42ec-c0a9-b0d3d72e8dc7",
    "scrolled": true
   },
   "outputs": [
    {
     "data": {
      "image/png": "[encoded data removed]",
      "text/plain": [
       "<Figure size 432x288 with 1 Axes>"
      ]
     },
     "metadata": {},
     "output_type": "display_data"
    }
   ],
   "source": [
    "import matplotlib.pyplot as plt\n",
    "import seaborn as sns\n",
    "\n",
    "data = [count_datapoints-count_multigrams,count_multigrams]\n",
    "labels = ['Total_Unigrams', 'Total_Muligrams']\n",
    "\n",
    "my_explode=[0.2,0]\n",
    "colors = sns.color_palette('Paired')\n",
    "         \n",
    "plt.pie(data, labels = labels, colors = colors, autopct='%.0f%%',explode=my_explode)\n",
    "plt.title('Bi-gram and Multi-gram Analysis for Problem Tags')\n",
    "plt.show()"
   ]
  },
  {
   "cell_type": "code",
   "execution_count": 30,
   "metadata": {
    "colab": {
     "base_uri": "https://localhost:8080/",
     "height": 192
    },
    "id": "dgJW5K6In5J4",
    "outputId": "9b734c53-ed2f-4af4-f064-271e81cee22a"
   },
   "outputs": [
    {
     "name": "stdout",
     "output_type": "stream",
     "text": [
      "Problem Statement example to show it is not yet pre-processed:\n"
     ]
    },
    {
     "data": {
      "text/plain": [
       "'There are n lamps in a line. The lamps are numbered 1 to n from left to right. There are also n keys. When key number i is pressed, all lamps number x such that i|x change their state.\\n\\nFor two integer numbers a and b, we say a|b if and only if there exists an integer c such that a\\u2009×\\u2009c\\u2009=\\u2009b.\\n\\nAmirali likes to play with the keys. He randomly pressed k keys and wants to know the final state of the lamps. Help him by writing a Pike piece of code to solve this task.\\n\\nThe first line of input contains a single integer n, the number of lamps (1\\u2009≤\\u2009n\\u2009≤\\u2009105).\\n\\nThe following line contains n words. The i-th word describes the initial state of lamp number i (see samples for details).\\n\\nThe following line contains a single integer k (1\\u2009≤\\u2009k\\u2009≤\\u2009104), the number of times a key is pressed. Then in the next line come k integers in range [1,\\u2009n] which are the numbers of the pressed keys.\\n\\nWrite n words to output. Describe the final state of the lamps. See samples for more details.'"
      ]
     },
     "execution_count": 30,
     "metadata": {},
     "output_type": "execute_result"
    }
   ],
   "source": [
    "#Problem Statement example to show it is not yet pre-processed\n",
    "print(\"Problem Statement example to show it is not yet pre-processed:\")\n",
    "df.problem_statement[17]"
   ]
  },
  {
   "cell_type": "markdown",
   "metadata": {
    "id": "vrhrfW8Wn5J4"
   },
   "source": [
    "<h3>Data Preprocessing for the questions</h3>\n",
    "<p> </p>"
   ]
  },
  {
   "cell_type": "code",
   "execution_count": 31,
   "metadata": {
    "colab": {
     "base_uri": "https://localhost:8080/",
     "height": 174
    },
    "id": "WestRES1n5J4",
    "outputId": "a225c2ac-7743-4040-e9c9-3f15fb6ed1b1"
   },
   "outputs": [
    {
     "name": "stdout",
     "output_type": "stream",
     "text": [
      "Pre-processed problem statment:\n"
     ]
    },
    {
     "data": {
      "text/plain": [
       "'there are n lamps in a line. the lamps are numbered 1 to n from left to right. there are also n keys. when key number i is pressed, all lamps number x such that i|x change their state.two integer numbers a and b, we say a|b if and only if there exists an integer c such that ac=b.likes to play with the keys. he randomly pressed k keys and wants to know the final state of the lamps. help him by writing a pike piece of code to solve this task.first line of input contains a single integer n, the number of lamps (1n105).following line contains n words. the i-th word describes the initial state of lamp number i (see samples for details).following line contains a single integer k (1k104), the number of times a key is pressed. then in the next line come k integers in range [1,n] which are the numbers of the pressed keys.n words to output. describe the final state of the lamps. see samples for more details.'"
      ]
     },
     "execution_count": 31,
     "metadata": {},
     "output_type": "execute_result"
    }
   ],
   "source": [
    "import re\n",
    "\n",
    "df_processed=df\n",
    "\n",
    "#replace all the \\n in the text\n",
    "problem_stat_processed = df_processed.problem_statement.replace(r'\\n',' ', regex=True) \n",
    "\n",
    "#convert to lower case\n",
    "problem_stat_processed=problem_stat_processed.str.lower()\n",
    "\n",
    "#Remove unicodes \n",
    "problem_stat_processed=[re.sub('\\s[\\$\\s]+\\w*[\\$\\s]+', '', item.encode('ascii', 'ignore').decode('ascii')) for item in problem_stat_processed ]\n",
    "CLEANR = re.compile('<.*?>') \n",
    "re_pattern = re.compile(u'[^\\u2009-\\uD7FF\\uE000-\\uFFFF]', re.UNICODE)\n",
    "\n",
    "#html tags removal\n",
    "problem_stat_processed=[re.sub(CLEANR, ' ', str(item)) for item in problem_stat_processed ]\n",
    "\n",
    "print(\"Pre-processed problem statment:\")\n",
    "problem_stat_processed[17]\n"
   ]
  },
  {
   "cell_type": "code",
   "execution_count": 32,
   "metadata": {
    "colab": {
     "base_uri": "https://localhost:8080/"
    },
    "id": "IplFK364TZnG",
    "outputId": "6865dbb8-9368-4934-9674-19485f526877"
   },
   "outputs": [
    {
     "name": "stderr",
     "output_type": "stream",
     "text": [
      "[nltk_data] Downloading package punkt to\n",
      "[nltk_data]     C:\\Users\\amitk\\AppData\\Roaming\\nltk_data...\n",
      "[nltk_data]   Package punkt is already up-to-date!\n"
     ]
    },
    {
     "data": {
      "text/plain": [
       "True"
      ]
     },
     "execution_count": 32,
     "metadata": {},
     "output_type": "execute_result"
    }
   ],
   "source": [
    " import nltk\n",
    " nltk.download('punkt')"
   ]
  },
  {
   "cell_type": "code",
   "execution_count": 33,
   "metadata": {
    "colab": {
     "base_uri": "https://localhost:8080/"
    },
    "id": "LvyUF5GLTeOY",
    "outputId": "5b93caac-204c-4d98-8967-8c20e7d76cb3"
   },
   "outputs": [
    {
     "name": "stderr",
     "output_type": "stream",
     "text": [
      "[nltk_data] Downloading package stopwords to\n",
      "[nltk_data]     C:\\Users\\amitk\\AppData\\Roaming\\nltk_data...\n",
      "[nltk_data]   Package stopwords is already up-to-date!\n"
     ]
    },
    {
     "data": {
      "text/plain": [
       "True"
      ]
     },
     "execution_count": 33,
     "metadata": {},
     "output_type": "execute_result"
    }
   ],
   "source": [
    " import nltk\n",
    " nltk.download('stopwords')"
   ]
  },
  {
   "cell_type": "code",
   "execution_count": 34,
   "metadata": {
    "colab": {
     "base_uri": "https://localhost:8080/"
    },
    "id": "yjjFWHd_TpLF",
    "outputId": "ff490792-9402-4bd6-edab-79b2ae9d208d"
   },
   "outputs": [
    {
     "name": "stderr",
     "output_type": "stream",
     "text": [
      "[nltk_data] Downloading package wordnet to\n",
      "[nltk_data]     C:\\Users\\amitk\\AppData\\Roaming\\nltk_data...\n",
      "[nltk_data]   Package wordnet is already up-to-date!\n"
     ]
    },
    {
     "data": {
      "text/plain": [
       "True"
      ]
     },
     "execution_count": 34,
     "metadata": {},
     "output_type": "execute_result"
    }
   ],
   "source": [
    " import nltk\n",
    " nltk.download('wordnet')"
   ]
  },
  {
   "cell_type": "code",
   "execution_count": 35,
   "metadata": {
    "id": "OxTwbA0w_8h7"
   },
   "outputs": [],
   "source": [
    "a=problem_stat_processed\n",
    "from tqdm import tqdm\n",
    "from nltk.tokenize import word_tokenize\n",
    "from spacy.lang.en.stop_words import STOP_WORDS\n",
    "\n",
    "#stop words removal.\n",
    "problem_stat_processed = [\" \".join([word for word in word_tokenize(sentence) if word not in STOP_WORDS]) for sentence in a]\n",
    "                                                        "
   ]
  },
  {
   "cell_type": "code",
   "execution_count": 36,
   "metadata": {
    "colab": {
     "base_uri": "https://localhost:8080/",
     "height": 140
    },
    "id": "8zrE8_5oW4Er",
    "outputId": "c37d3cec-91c5-4430-b0c0-130fc1dbc4cf"
   },
   "outputs": [
    {
     "name": "stdout",
     "output_type": "stream",
     "text": [
      "Pre-processed problem statment after stop words removal:\n"
     ]
    },
    {
     "data": {
      "text/plain": [
       "'n lamps line . lamps numbered 1 n left right . n keys . key number pressed , lamps number x i|x change state.two integer numbers b , a|b exists integer c ac=b.likes play keys . randomly pressed k keys wants know final state lamps . help writing pike piece code solve task.first line input contains single integer n , number lamps ( 1n105 ) .following line contains n words . i-th word describes initial state lamp number ( samples details ) .following line contains single integer k ( 1k104 ) , number times key pressed . line come k integers range [ 1 , n ] numbers pressed keys.n words output . describe final state lamps . samples details .'"
      ]
     },
     "execution_count": 36,
     "metadata": {},
     "output_type": "execute_result"
    }
   ],
   "source": [
    "print(\"Pre-processed problem statment after stop words removal:\")\n",
    "problem_stat_processed[17]"
   ]
  },
  {
   "cell_type": "code",
   "execution_count": 37,
   "metadata": {
    "id": "SJZ71GoRROO8"
   },
   "outputs": [],
   "source": [
    "#Lemmatanization\n",
    "import nltk\n",
    "w_tokenizer = nltk.tokenize.WhitespaceTokenizer()\n",
    "lemmatizer = nltk.stem.WordNetLemmatizer()\n",
    "\n",
    "text_problem=problem_stat_processed\n",
    "problem_stat_processed = [\" \".join([lemmatizer.lemmatize(word) for word in word_tokenize(sentence) ]) for sentence in text_problem]"
   ]
  },
  {
   "cell_type": "code",
   "execution_count": 38,
   "metadata": {
    "colab": {
     "base_uri": "https://localhost:8080/",
     "height": 140
    },
    "id": "YnIxPGmTabhv",
    "outputId": "febbe39a-ddd9-41d4-cc67-e89757257d70"
   },
   "outputs": [
    {
     "name": "stdout",
     "output_type": "stream",
     "text": [
      "Pre-processed problem statment after Lemmatanization:\n"
     ]
    },
    {
     "data": {
      "text/plain": [
       "'n lamp line . lamp numbered 1 n left right . n key . key number pressed , lamp number x i|x change state.two integer number b , a|b exists integer c ac=b.likes play key . randomly pressed k key want know final state lamp . help writing pike piece code solve task.first line input contains single integer n , number lamp ( 1n105 ) .following line contains n word . i-th word describes initial state lamp number ( sample detail ) .following line contains single integer k ( 1k104 ) , number time key pressed . line come k integer range [ 1 , n ] number pressed keys.n word output . describe final state lamp . sample detail .'"
      ]
     },
     "execution_count": 38,
     "metadata": {},
     "output_type": "execute_result"
    }
   ],
   "source": [
    "print(\"Pre-processed problem statment after Lemmatanization:\")\n",
    "problem_stat_processed[17]"
   ]
  },
  {
   "cell_type": "code",
   "execution_count": 39,
   "metadata": {
    "id": "Xa_SCk1Ob6Px"
   },
   "outputs": [],
   "source": [
    "#Stemming\n",
    "\n",
    "from nltk.stem import PorterStemmer\n",
    "from nltk.tokenize import word_tokenize\n",
    "ps = PorterStemmer()\n",
    "text_problem=problem_stat_processed\n",
    "problem_stat_processed = [\" \".join([ps.stem(word) for word in word_tokenize(sentence) ]) for sentence in text_problem]"
   ]
  },
  {
   "cell_type": "code",
   "execution_count": 40,
   "metadata": {
    "colab": {
     "base_uri": "https://localhost:8080/",
     "height": 122
    },
    "id": "rnvFnF6edZFj",
    "outputId": "32d9c58a-cff8-483a-8dfe-754ac7b976e0"
   },
   "outputs": [
    {
     "name": "stdout",
     "output_type": "stream",
     "text": [
      "Pre-processed problem statment after Stemming:\n"
     ]
    },
    {
     "data": {
      "text/plain": [
       "'n lamp line . lamp number 1 n left right . n key . key number press , lamp number x i|x chang state.two integ number b , a|b exist integ c ac=b.lik play key . randomli press k key want know final state lamp . help write pike piec code solv task.first line input contain singl integ n , number lamp ( 1n105 ) .follow line contain n word . i-th word describ initi state lamp number ( sampl detail ) .follow line contain singl integ k ( 1k104 ) , number time key press . line come k integ rang [ 1 , n ] number press keys.n word output . describ final state lamp . sampl detail .'"
      ]
     },
     "execution_count": 40,
     "metadata": {},
     "output_type": "execute_result"
    }
   ],
   "source": [
    "print(\"Pre-processed problem statment after Stemming:\")\n",
    "problem_stat_processed[17]"
   ]
  },
  {
   "cell_type": "code",
   "execution_count": 41,
   "metadata": {
    "id": "4GzqzI7vdm2g"
   },
   "outputs": [],
   "source": [
    "#Setting back to dataframe the pre-processing text\n",
    "df.problem_statement=problem_stat_processed"
   ]
  },
  {
   "cell_type": "code",
   "execution_count": 42,
   "metadata": {
    "colab": {
     "base_uri": "https://localhost:8080/"
    },
    "id": "UE098t0QeJTq",
    "outputId": "a2cafaf0-8762-4a63-d3aa-e4e339907128"
   },
   "outputs": [
    {
     "name": "stdout",
     "output_type": "stream",
     "text": [
      "Total number of tags in the dataset: 37\n"
     ]
    }
   ],
   "source": [
    "from sklearn.feature_extraction.text import CountVectorizer\n",
    "\n",
    "#Converting tags to multi-label\n",
    "vectorizer = CountVectorizer(tokenizer = lambda x: x.split(), binary='true')\n",
    "multi_tags = vectorizer.fit_transform(df.problem_tags_values)\n",
    "print(\"Total number of tags in the dataset:\",multi_tags.shape[1])"
   ]
  },
  {
   "cell_type": "code",
   "execution_count": 43,
   "metadata": {
    "id": "QOuwRmQpgQue"
   },
   "outputs": [],
   "source": [
    "import re\n",
    "def clean_data(row):\n",
    "    return re.sub('\\s[\\$\\s]+\\w*[\\$\\s]+', '', row.encode('ascii', 'ignore').decode('ascii'))\n",
    "\n",
    "df['problem_statement'] = df['problem_statement'].apply(clean_data)"
   ]
  },
  {
   "cell_type": "markdown",
   "metadata": {
    "id": "tKvHDiD3gRbu"
   },
   "source": [
    "**Bag of Words**\n",
    "Featurizing bag of words with text vectorizer"
   ]
  },
  {
   "cell_type": "code",
   "execution_count": 44,
   "metadata": {
    "colab": {
     "base_uri": "https://localhost:8080/"
    },
    "id": "ISUbnwPjn5J5",
    "outputId": "33ef9fc1-f789-4b09-c018-a3e2b312d2da"
   },
   "outputs": [
    {
     "data": {
      "text/plain": [
       "((6273, 1), (1569, 1), (6273, 1), (1569, 1))"
      ]
     },
     "execution_count": 44,
     "metadata": {},
     "output_type": "execute_result"
    }
   ],
   "source": [
    "from sklearn.model_selection import train_test_split\n",
    "\n",
    "X = df[['problem_statement']]\n",
    "y = df[[\"problem_tags_values\"]]\n",
    "\n",
    "#train and test split\n",
    "X_train, X_test, y_train, y_test = train_test_split(X, y, test_size=0.2, random_state = 0)\n",
    "X_train.shape, X_test.shape, y_train.shape, y_test.shape"
   ]
  },
  {
   "cell_type": "code",
   "execution_count": 45,
   "metadata": {
    "id": "CMlq7Plwn5J5"
   },
   "outputs": [],
   "source": [
    "from sklearn.feature_extraction.text import TfidfVectorizer\n",
    "#Vectorizing the Inputs.\n",
    "vectorizer = CountVectorizer(tokenizer = lambda x: x.split(), binary='true')\n",
    "x_train_multilabel = vectorizer.fit_transform(X_train['problem_statement'])\n",
    "x_test_multilabel = vectorizer.transform(X_test['problem_statement'])\n",
    "\n",
    "y_train = vectorizer.fit_transform(y_train['problem_tags_values'])\n",
    "y_test = vectorizer.fit_transform(y_test['problem_tags_values'])\n"
   ]
  },
  {
   "cell_type": "code",
   "execution_count": 46,
   "metadata": {
    "colab": {
     "base_uri": "https://localhost:8080/"
    },
    "id": "L4-Dw5LUn5J6",
    "outputId": "6335c1f3-70aa-4801-eee4-0076598e0916"
   },
   "outputs": [
    {
     "name": "stdout",
     "output_type": "stream",
     "text": [
      "Train data diemnsions are : (6273, 55519) Y : (6273, 37)\n",
      "Test data dimensions are : (1569, 55519) Y: (1569, 37)\n"
     ]
    }
   ],
   "source": [
    "print(\"Train data diemnsions are :\",x_train_multilabel.shape, \"Y :\",y_train.shape)\n",
    "print(\"Test data dimensions are :\",x_test_multilabel.shape,\"Y:\",y_test.shape)"
   ]
  },
  {
   "cell_type": "markdown",
   "metadata": {
    "id": "26iKm94DiXqP"
   },
   "source": [
    "<h3>Logistic Regression with OnevsRestClassifier Model</h3>"
   ]
  },
  {
   "cell_type": "code",
   "execution_count": 49,
   "metadata": {
    "colab": {
     "base_uri": "https://localhost:8080/"
    },
    "id": "525hdBc1jIkX",
    "outputId": "f32d73e4-83f8-40a0-a80e-ef75edeb6f7f"
   },
   "outputs": [
    {
     "name": "stdout",
     "output_type": "stream",
     "text": [
      "Accuracy of the Logistic Regression is: 0.12938177182919056\n",
      "Hamming loss of the Logistic Regression is 0.05879110468020602\n",
      "Micro-average scores\n",
      "Precision are : 0.6094, Recall are : 0.3974, F1-measure are : 0.4811\n",
      "Macro-average scores\n",
      "Precision are : 0.6183, Recall are: 0.3261, F1-measure are: 0.4048\n",
      "              precision    recall  f1-score   support\n",
      "\n",
      "           0       0.76      0.40      0.52        85\n",
      "           1       0.00      0.00      0.00         2\n",
      "           2       0.56      0.27      0.36       153\n",
      "           3       0.50      0.16      0.25        61\n",
      "           4       0.33      0.18      0.23       228\n",
      "           5       1.00      0.67      0.80         3\n",
      "           6       0.65      0.38      0.48        91\n",
      "           7       0.57      0.36      0.45       223\n",
      "           8       0.71      0.47      0.56       277\n",
      "           9       0.51      0.42      0.46       136\n",
      "          10       0.17      0.03      0.05        38\n",
      "          11       0.62      0.38      0.47       341\n",
      "          12       0.80      0.15      0.25        53\n",
      "          13       0.00      0.00      0.00         5\n",
      "          14       1.00      0.22      0.36         9\n",
      "          15       0.75      0.14      0.24        21\n",
      "          16       0.88      0.66      0.75        32\n",
      "          17       0.79      0.55      0.65        76\n",
      "          18       0.50      0.11      0.18         9\n",
      "          19       0.76      0.56      0.65       181\n",
      "          20       0.59      0.49      0.54       368\n",
      "          21       0.73      0.26      0.39        42\n",
      "          22       0.54      0.41      0.47       446\n",
      "          23       0.96      0.85      0.90        27\n",
      "          24       0.57      0.45      0.51       366\n",
      "          25       1.00      0.13      0.23        23\n",
      "          26       1.00      0.14      0.25         7\n",
      "          27       0.66      0.38      0.48       113\n",
      "          28       0.85      0.61      0.71        38\n",
      "          29       0.00      0.00      0.00         1\n",
      "          30       0.68      0.25      0.36        53\n",
      "          31       0.49      0.26      0.34       143\n",
      "          32       0.66      0.54      0.60       112\n",
      "          33       0.83      0.26      0.40        19\n",
      "          34       0.33      0.12      0.18         8\n",
      "          35       0.75      0.62      0.68       130\n",
      "          36       0.34      0.16      0.22        61\n",
      "\n",
      "   micro avg       0.61      0.40      0.48      3981\n",
      "   macro avg       0.62      0.33      0.40      3981\n",
      "weighted avg       0.61      0.40      0.47      3981\n",
      " samples avg       0.52      0.43      0.44      3981\n",
      "\n"
     ]
    }
   ],
   "source": [
    "from sklearn.linear_model import LogisticRegression\n",
    "from sklearn.multiclass import OneVsRestClassifier\n",
    "from sklearn import metrics\n",
    "from sklearn.metrics import f1_score,precision_score,recall_score\n",
    "from sklearn.metrics import precision_recall_fscore_support as score\n",
    "\n",
    "#LogisticRegression for multi-label classification.\n",
    "classifier_2 = OneVsRestClassifier(LogisticRegression(penalty='l2',solver='sag', max_iter=1000))\n",
    "classifier_2.fit(x_train_multilabel, y_train)\n",
    "predictions_2 = classifier_2.predict(x_test_multilabel)\n",
    "\n",
    "print(\"Accuracy of the Logistic Regression is:\",metrics.accuracy_score(y_test, predictions_2))\n",
    "print(\"Hamming loss of the Logistic Regression is\",metrics.hamming_loss(y_test,predictions_2))\n",
    "\n",
    "precision = precision_score(y_test, predictions_2, average='micro')\n",
    "recall = recall_score(y_test, predictions_2, average='micro')\n",
    "f1 = f1_score(y_test, predictions_2, average='micro')\n",
    " \n",
    "print(\"Micro-average scores\")\n",
    "print(\"Precision are : {:.4f}, Recall are : {:.4f}, F1-measure are : {:.4f}\".format(precision, recall, f1))\n",
    "\n",
    "precision = precision_score(y_test, predictions_2, average='macro')\n",
    "recall = recall_score(y_test, predictions_2, average='macro')\n",
    "f1 = f1_score(y_test, predictions_2, average='macro')\n",
    " \n",
    "print(\"Macro-average scores\")\n",
    "print(\"Precision are : {:.4f}, Recall are: {:.4f}, F1-measure are: {:.4f}\".format(precision, recall, f1))\n",
    "\n",
    "print (metrics.classification_report(y_test, predictions_2))\n"
   ]
  },
  {
   "cell_type": "markdown",
   "metadata": {
    "id": "jri80QaqJ2lk"
   },
   "source": [
    "Hyper parameters tuning for OneVsRestClassifier(Logistic Regression)"
   ]
  },
  {
   "cell_type": "code",
   "execution_count": 50,
   "metadata": {
    "colab": {
     "base_uri": "https://localhost:8080/"
    },
    "id": "upw4ZvQxKQ22",
    "outputId": "060c9219-bee1-4544-c633-b77ce6f26b02"
   },
   "outputs": [
    {
     "name": "stdout",
     "output_type": "stream",
     "text": [
      "Fitting 5 folds for each of 8 candidates, totalling 40 fits\n",
      "Hyper parameters are   {'estimator__C': 1.2, 'estimator__penalty': 'l2', 'estimator__solver': 'liblinear'}\n",
      "Best Score values are  0.09468994834060886\n"
     ]
    }
   ],
   "source": [
    "from sklearn.linear_model import LogisticRegression\n",
    "from sklearn.model_selection import GridSearchCV\n",
    "\n",
    "#Hyper paramter tuning for best accuracy.\n",
    "param_grid = dict(estimator__C=[1, 1.2], estimator__penalty = ['l1', 'l2'], estimator__solver = ['liblinear', 'sag'])\n",
    "gsv = GridSearchCV(OneVsRestClassifier(LogisticRegression(class_weight='balanced')), param_grid=param_grid, verbose=5, n_jobs=-1)\n",
    "gsv.fit(x_train_multilabel, y_train)\n",
    "\n",
    "print('Hyper parameters are  ', gsv.best_params_)\n",
    "print('Best Score values are ', gsv.best_score_)"
   ]
  },
  {
   "cell_type": "code",
   "execution_count": 51,
   "metadata": {
    "colab": {
     "base_uri": "https://localhost:8080/"
    },
    "id": "m72--duCn5J7",
    "outputId": "f89814df-1a08-4433-b6e1-cf0c0e8701cf"
   },
   "outputs": [
    {
     "name": "stdout",
     "output_type": "stream",
     "text": [
      "Accuracy after hyper-parameter tuning is : 0.12810707456978968\n",
      "Hamming loss after hyper-parameter tuning  0.058877232873408784\n",
      "Micro-average score after tuning\n",
      "Precision are: 0.6074, Recall are: 0.3999, F1-measure are: 0.4823\n",
      "Macro-average score after tuning\n",
      "Precision are: 0.6171, Recall are: 0.3282, F1-measure  are: 0.4056\n",
      "              precision    recall  f1-score   support\n",
      "\n",
      "           0       0.76      0.40      0.52        85\n",
      "           1       0.00      0.00      0.00         2\n",
      "           2       0.56      0.27      0.36       153\n",
      "           3       0.50      0.16      0.25        61\n",
      "           4       0.33      0.18      0.24       228\n",
      "           5       1.00      0.67      0.80         3\n",
      "           6       0.65      0.38      0.48        91\n",
      "           7       0.57      0.37      0.45       223\n",
      "           8       0.71      0.47      0.56       277\n",
      "           9       0.51      0.42      0.46       136\n",
      "          10       0.17      0.03      0.05        38\n",
      "          11       0.62      0.39      0.48       341\n",
      "          12       0.80      0.15      0.25        53\n",
      "          13       0.00      0.00      0.00         5\n",
      "          14       1.00      0.22      0.36         9\n",
      "          15       0.75      0.14      0.24        21\n",
      "          16       0.84      0.66      0.74        32\n",
      "          17       0.79      0.55      0.65        76\n",
      "          18       0.50      0.11      0.18         9\n",
      "          19       0.77      0.56      0.65       181\n",
      "          20       0.59      0.50      0.54       368\n",
      "          21       0.73      0.26      0.39        42\n",
      "          22       0.54      0.41      0.46       446\n",
      "          23       0.96      0.89      0.92        27\n",
      "          24       0.57      0.45      0.51       366\n",
      "          25       1.00      0.13      0.23        23\n",
      "          26       1.00      0.14      0.25         7\n",
      "          27       0.68      0.40      0.50       113\n",
      "          28       0.85      0.61      0.71        38\n",
      "          29       0.00      0.00      0.00         1\n",
      "          30       0.68      0.25      0.36        53\n",
      "          31       0.50      0.27      0.35       143\n",
      "          32       0.63      0.54      0.58       112\n",
      "          33       0.83      0.26      0.40        19\n",
      "          34       0.33      0.12      0.18         8\n",
      "          35       0.75      0.62      0.68       130\n",
      "          36       0.34      0.16      0.22        61\n",
      "\n",
      "   micro avg       0.61      0.40      0.48      3981\n",
      "   macro avg       0.62      0.33      0.41      3981\n",
      "weighted avg       0.60      0.40      0.47      3981\n",
      " samples avg       0.52      0.43      0.44      3981\n",
      "\n"
     ]
    }
   ],
   "source": [
    "classifier = OneVsRestClassifier(LogisticRegression(C=1.2, solver='liblinear', penalty='l2'))\n",
    "classifier.fit(x_train_multilabel, y_train)\n",
    "predictions = classifier.predict (x_test_multilabel)\n",
    "\n",
    "print(\"Accuracy after hyper-parameter tuning is :\",metrics.accuracy_score(y_test, predictions))\n",
    "print(\"Hamming loss after hyper-parameter tuning \",metrics.hamming_loss(y_test,predictions))\n",
    "\n",
    "precision = precision_score(y_test, predictions, average='micro')\n",
    "recall = recall_score(y_test, predictions, average='micro')\n",
    "f1 = f1_score(y_test, predictions, average='micro')\n",
    " \n",
    "print(\"Micro-average score after tuning\")\n",
    "print(\"Precision are: {:.4f}, Recall are: {:.4f}, F1-measure are: {:.4f}\".format(precision, recall, f1))\n",
    "\n",
    "precision = precision_score(y_test, predictions, average='macro')\n",
    "recall = recall_score(y_test, predictions, average='macro')\n",
    "f1 = f1_score(y_test, predictions, average='macro')\n",
    " \n",
    "print(\"Macro-average score after tuning\")\n",
    "print(\"Precision are: {:.4f}, Recall are: {:.4f}, F1-measure  are: {:.4f}\".format(precision, recall, f1))\n",
    "\n",
    "print (metrics.classification_report(y_test, predictions))"
   ]
  },
  {
   "cell_type": "code",
   "execution_count": 52,
   "metadata": {
    "id": "hPqu1tv4cJD5"
   },
   "outputs": [],
   "source": [
    "import pandas as pd\n",
    "import matplotlib.pyplot as plt\n",
    "import seaborn as sns\n",
    "\n",
    "#Printing multi-label confusion matrix .\n",
    "def print_confusion_matrix(confusion_matrix, axes, class_label, class_names, fontsize=14):\n",
    "\n",
    "    df_cm = pd.DataFrame(\n",
    "        confusion_matrix, index=class_names, columns=class_names,\n",
    "    )\n",
    "\n",
    "    try:\n",
    "        heatmap = sns.heatmap(df_cm, annot=True, fmt=\"d\", cbar=False, ax=axes)\n",
    "    except ValueError:\n",
    "        raise ValueError(\"Confusion matrix values must be integers.\")\n",
    "    heatmap.yaxis.set_ticklabels(heatmap.yaxis.get_ticklabels(), rotation=0, ha='right', fontsize=fontsize)\n",
    "    heatmap.xaxis.set_ticklabels(heatmap.xaxis.get_ticklabels(), rotation=45, ha='right', fontsize=fontsize)\n",
    "    axes.set_ylabel('True label')\n",
    "    axes.set_xlabel('Predicted label')\n",
    "    axes.set_title(\"CM-\" + class_label)"
   ]
  },
  {
   "cell_type": "code",
   "execution_count": 53,
   "metadata": {
    "colab": {
     "base_uri": "https://localhost:8080/",
     "height": 685
    },
    "id": "k_QpMoLRcUHy",
    "outputId": "6a751309-62a4-4234-d2f3-62e7c96967f3"
   },
   "outputs": [
    {
     "data": {
      "image/png": "[encoded data removed]",
      "text/plain": [
       "<Figure size 1008x720 with 36 Axes>"
      ]
     },
     "metadata": {
      "needs_background": "light"
     },
     "output_type": "display_data"
    }
   ],
   "source": [
    "#Logistic-Regression\n",
    "from sklearn.metrics import multilabel_confusion_matrix\n",
    "import seaborn as sns\n",
    "\n",
    "labels=total_tags.astype(str).values.tolist()\n",
    "cfs_matrix=multilabel_confusion_matrix(y_test, predictions)\n",
    "fig, ax = plt.subplots(6, 6, figsize=(14, 10))\n",
    "for axes, cfs_matrix, label in zip(ax.flatten(), cfs_matrix, labels):\n",
    "  print_confusion_matrix(cfs_matrix, axes, label, [\"N\", \"Y\"]) \n",
    "fig.tight_layout()\n",
    "plt.show()"
   ]
  },
  {
   "cell_type": "markdown",
   "metadata": {
    "id": "tZaSYkmrfHzq"
   },
   "source": [
    "**Multi-label Confusion matrix for Logistic Regression**\n",
    "\n",
    "The above plot shows the confusin matrix for multi-label classification and we can see that false positive values are quite large . "
   ]
  },
  {
   "cell_type": "markdown",
   "metadata": {},
   "source": [
    "**SGDClassifier for Multi-label Classification**"
   ]
  },
  {
   "cell_type": "code",
   "execution_count": 54,
   "metadata": {},
   "outputs": [
    {
     "name": "stdout",
     "output_type": "stream",
     "text": [
      "Accuracy of the SGD Classifier is: 0.11918419375398343\n",
      "Hamming loss of the SGD Classifier is 0.06633593440476805\n",
      "Micro-average scores\n",
      "Precision are : 0.5192, Recall are : 0.4413, F1-measure are : 0.4771\n",
      "Macro-average scores\n",
      "Precision are : 0.5239, Recall are: 0.3558, F1-measure are: 0.4050\n",
      "              precision    recall  f1-score   support\n",
      "\n",
      "           0       0.63      0.42      0.51        85\n",
      "           1       0.00      0.00      0.00         2\n",
      "           2       0.47      0.33      0.38       153\n",
      "           3       0.42      0.21      0.28        61\n",
      "           4       0.27      0.26      0.27       228\n",
      "           5       1.00      0.67      0.80         3\n",
      "           6       0.58      0.38      0.46        91\n",
      "           7       0.48      0.42      0.45       223\n",
      "           8       0.61      0.50      0.55       277\n",
      "           9       0.46      0.51      0.48       136\n",
      "          10       0.12      0.05      0.07        38\n",
      "          11       0.54      0.44      0.48       341\n",
      "          12       0.42      0.21      0.28        53\n",
      "          13       0.00      0.00      0.00         5\n",
      "          14       1.00      0.33      0.50         9\n",
      "          15       0.50      0.14      0.22        21\n",
      "          16       0.79      0.59      0.68        32\n",
      "          17       0.70      0.57      0.63        76\n",
      "          18       0.17      0.11      0.13         9\n",
      "          19       0.60      0.59      0.59       181\n",
      "          20       0.54      0.54      0.54       368\n",
      "          21       0.48      0.24      0.32        42\n",
      "          22       0.49      0.44      0.46       446\n",
      "          23       0.96      0.93      0.94        27\n",
      "          24       0.52      0.52      0.52       366\n",
      "          25       1.00      0.13      0.23        23\n",
      "          26       1.00      0.14      0.25         7\n",
      "          27       0.62      0.43      0.51       113\n",
      "          28       0.79      0.61      0.69        38\n",
      "          29       0.00      0.00      0.00         1\n",
      "          30       0.53      0.32      0.40        53\n",
      "          31       0.36      0.31      0.33       143\n",
      "          32       0.57      0.52      0.54       112\n",
      "          33       0.55      0.32      0.40        19\n",
      "          34       0.25      0.12      0.17         8\n",
      "          35       0.72      0.68      0.70       130\n",
      "          36       0.25      0.18      0.21        61\n",
      "\n",
      "   micro avg       0.52      0.44      0.48      3981\n",
      "   macro avg       0.52      0.36      0.41      3981\n",
      "weighted avg       0.52      0.44      0.47      3981\n",
      " samples avg       0.50      0.47      0.45      3981\n",
      "\n"
     ]
    }
   ],
   "source": [
    "from sklearn.multiclass import OneVsRestClassifier\n",
    "from sklearn.linear_model import SGDClassifier\n",
    "from sklearn import metrics\n",
    "from sklearn.metrics import f1_score,precision_score,recall_score\n",
    "from sklearn.metrics import precision_recall_fscore_support as score\n",
    "\n",
    "#Linear SVM\n",
    "classifier = OneVsRestClassifier(SGDClassifier(loss='hinge', alpha=0.00001, penalty='l1'), n_jobs=-1)\n",
    "classifier.fit(x_train_multilabel, y_train)\n",
    "predictions_sdg = classifier.predict(x_test_multilabel)\n",
    "\n",
    "print(\"Accuracy of the SGD Classifier is:\",metrics.accuracy_score(y_test, predictions_sdg))\n",
    "print(\"Hamming loss of the SGD Classifier is\",metrics.hamming_loss(y_test, predictions_sdg))\n",
    "\n",
    "precision = precision_score(y_test, predictions_sdg, average='micro')\n",
    "recall = recall_score(y_test, predictions_sdg, average='micro')\n",
    "f1 = f1_score(y_test, predictions_sdg, average='micro')\n",
    " \n",
    "print(\"Micro-average scores\")\n",
    "print(\"Precision are : {:.4f}, Recall are : {:.4f}, F1-measure are : {:.4f}\".format(precision, recall, f1))\n",
    "\n",
    "precision = precision_score(y_test, predictions_sdg, average='macro')\n",
    "recall = recall_score(y_test, predictions_sdg, average='macro')\n",
    "f1 = f1_score(y_test, predictions_sdg, average='macro')\n",
    " \n",
    "print(\"Macro-average scores\")\n",
    "print(\"Precision are : {:.4f}, Recall are: {:.4f}, F1-measure are: {:.4f}\".format(precision, recall, f1))\n",
    "\n",
    "print (metrics.classification_report(y_test, predictions_sdg))"
   ]
  },
  {
   "cell_type": "code",
   "execution_count": 55,
   "metadata": {},
   "outputs": [
    {
     "name": "stdout",
     "output_type": "stream",
     "text": [
      "Fitting 5 folds for each of 6 candidates, totalling 30 fits\n",
      "Hyper parameters are   {'estimator__alpha': 0.001, 'estimator__penalty': 'l2'}\n",
      "Best Score values are  0.10760377945951441\n"
     ]
    }
   ],
   "source": [
    "# Hyper paramter tuning for best accuracy.\n",
    "param_grid = dict(estimator__alpha=[0.001, 0.01], estimator__penalty=['l1', 'l2', 'elasticnet'])\n",
    "gsv = GridSearchCV(OneVsRestClassifier(SGDClassifier()), param_grid=param_grid, verbose=5, n_jobs=-1)\n",
    "gsv.fit(x_train_multilabel, y_train)\n",
    "\n",
    "print('Hyper parameters are  ', gsv.best_params_)\n",
    "print('Best Score values are ', gsv.best_score_)"
   ]
  },
  {
   "cell_type": "code",
   "execution_count": 56,
   "metadata": {},
   "outputs": [
    {
     "name": "stdout",
     "output_type": "stream",
     "text": [
      "Accuracy of the SGD Classifier is: 0.12045889101338432\n",
      "Hamming loss of the SGD Classifier is 0.06373486297004462\n",
      "Micro-average scores\n",
      "Precision are : 0.5457, Recall are : 0.4218, F1-measure are : 0.4758\n",
      "Macro-average scores\n",
      "Precision are : 0.5561, Recall are: 0.3506, F1-measure are: 0.4055\n",
      "              precision    recall  f1-score   support\n",
      "\n",
      "           0       0.63      0.47      0.54        85\n",
      "           1       0.00      0.00      0.00         2\n",
      "           2       0.31      0.44      0.36       153\n",
      "           3       0.58      0.11      0.19        61\n",
      "           4       0.31      0.24      0.27       228\n",
      "           5       1.00      0.67      0.80         3\n",
      "           6       0.57      0.34      0.43        91\n",
      "           7       0.54      0.39      0.45       223\n",
      "           8       0.68      0.47      0.55       277\n",
      "           9       0.40      0.51      0.45       136\n",
      "          10       0.06      0.03      0.04        38\n",
      "          11       0.64      0.37      0.47       341\n",
      "          12       0.37      0.28      0.32        53\n",
      "          13       0.00      0.00      0.00         5\n",
      "          14       0.67      0.22      0.33         9\n",
      "          15       0.60      0.14      0.23        21\n",
      "          16       0.81      0.69      0.75        32\n",
      "          17       0.79      0.55      0.65        76\n",
      "          18       0.50      0.11      0.18         9\n",
      "          19       0.70      0.59      0.64       181\n",
      "          20       0.59      0.45      0.51       368\n",
      "          21       0.57      0.29      0.38        42\n",
      "          22       0.48      0.47      0.47       446\n",
      "          23       0.96      0.96      0.96        27\n",
      "          24       0.61      0.42      0.50       366\n",
      "          25       1.00      0.13      0.23        23\n",
      "          26       1.00      0.14      0.25         7\n",
      "          27       0.55      0.48      0.51       113\n",
      "          28       0.79      0.58      0.67        38\n",
      "          29       0.00      0.00      0.00         1\n",
      "          30       0.64      0.26      0.37        53\n",
      "          31       0.43      0.26      0.32       143\n",
      "          32       0.63      0.59      0.61       112\n",
      "          33       0.75      0.32      0.44        19\n",
      "          34       0.33      0.12      0.18         8\n",
      "          35       0.71      0.72      0.71       130\n",
      "          36       0.37      0.16      0.23        61\n",
      "\n",
      "   micro avg       0.55      0.42      0.48      3981\n",
      "   macro avg       0.56      0.35      0.41      3981\n",
      "weighted avg       0.56      0.42      0.47      3981\n",
      " samples avg       0.50      0.45      0.44      3981\n",
      "\n"
     ]
    }
   ],
   "source": [
    "from sklearn.multiclass import OneVsRestClassifier\n",
    "from sklearn.linear_model import SGDClassifier\n",
    "from sklearn import metrics\n",
    "from sklearn.metrics import f1_score,precision_score,recall_score\n",
    "from sklearn.metrics import precision_recall_fscore_support as score\n",
    "\n",
    "classifier = OneVsRestClassifier(SGDClassifier(loss='hinge', alpha=0.001, penalty='l2'), n_jobs=-1)\n",
    "classifier.fit(x_train_multilabel, y_train)\n",
    "predictions_sdg = classifier.predict(x_test_multilabel)\n",
    "\n",
    "print(\"Accuracy of the SGD Classifier is:\",metrics.accuracy_score(y_test, predictions_sdg))\n",
    "print(\"Hamming loss of the SGD Classifier is\",metrics.hamming_loss(y_test, predictions_sdg))\n",
    "\n",
    "precision = precision_score(y_test, predictions_sdg, average='micro')\n",
    "recall = recall_score(y_test, predictions_sdg, average='micro')\n",
    "f1 = f1_score(y_test, predictions_sdg, average='micro')\n",
    " \n",
    "print(\"Micro-average scores\")\n",
    "print(\"Precision are : {:.4f}, Recall are : {:.4f}, F1-measure are : {:.4f}\".format(precision, recall, f1))\n",
    "\n",
    "precision = precision_score(y_test, predictions_sdg, average='macro')\n",
    "recall = recall_score(y_test, predictions_sdg, average='macro')\n",
    "f1 = f1_score(y_test, predictions_sdg, average='macro')\n",
    " \n",
    "print(\"Macro-average scores\")\n",
    "print(\"Precision are : {:.4f}, Recall are: {:.4f}, F1-measure are: {:.4f}\".format(precision, recall, f1))\n",
    "\n",
    "print (metrics.classification_report(y_test, predictions_sdg))"
   ]
  },
  {
   "cell_type": "markdown",
   "metadata": {
    "id": "LHEWrJTr-uwB"
   },
   "source": [
    "**Random Forest Classifier for Multi-label Classification**"
   ]
  },
  {
   "cell_type": "code",
   "execution_count": 51,
   "metadata": {
    "colab": {
     "base_uri": "https://localhost:8080/"
    },
    "id": "mGIP391USiWm",
    "outputId": "5e33d76e-39a0-4026-b861-5f85e7b95403"
   },
   "outputs": [
    {
     "name": "stdout",
     "output_type": "stream",
     "text": [
      "Accuracy of the Random forest Classifier is: 0.08731676226896112\n",
      "Hamming loss of the Random forest Classifier is 0.059101166175735964\n",
      "Micro-average scores\n",
      "Precision are : 0.7387, Recall are : 0.2138, F1-measure are : 0.3316\n",
      "Macro-average scores\n",
      "Precision are : 0.6788, Recall are: 0.2136, F1-measure are: 0.3164\n",
      "              precision    recall  f1-score   support\n",
      "\n",
      "           0       0.77      0.35      0.48        85\n",
      "           1       0.00      0.00      0.00         2\n",
      "           2       0.69      0.22      0.34       153\n",
      "           3       0.58      0.11      0.19        61\n",
      "           4       0.51      0.14      0.21       228\n",
      "           5       1.00      0.67      0.80         3\n",
      "           6       0.70      0.21      0.32        91\n",
      "           7       0.73      0.21      0.33       223\n",
      "           8       0.84      0.20      0.33       277\n",
      "           9       0.62      0.21      0.31       136\n",
      "          10       0.17      0.03      0.05        38\n",
      "          11       0.84      0.22      0.35       341\n",
      "          12       0.80      0.15      0.25        53\n",
      "          13       0.00      0.00      0.00         5\n",
      "          14       1.00      0.22      0.36         9\n",
      "          15       0.75      0.14      0.24        21\n",
      "          16       0.92      0.34      0.50        32\n",
      "          17       0.89      0.22      0.36        76\n",
      "          18       0.50      0.11      0.18         9\n",
      "          19       0.87      0.37      0.52       181\n",
      "          20       0.78      0.23      0.35       368\n",
      "          21       0.73      0.26      0.39        42\n",
      "          22       0.64      0.13      0.21       446\n",
      "          23       1.00      0.59      0.74        27\n",
      "          24       0.77      0.22      0.34       366\n",
      "          25       1.00      0.13      0.23        23\n",
      "          26       1.00      0.14      0.25         7\n",
      "          27       0.84      0.28      0.42       113\n",
      "          28       0.81      0.34      0.48        38\n",
      "          29       0.00      0.00      0.00         1\n",
      "          30       0.73      0.21      0.32        53\n",
      "          31       0.51      0.16      0.24       143\n",
      "          32       0.70      0.21      0.32       112\n",
      "          33       0.83      0.26      0.40        19\n",
      "          34       0.33      0.12      0.18         8\n",
      "          35       0.85      0.34      0.48       130\n",
      "          36       0.39      0.15      0.21        61\n",
      "\n",
      "   micro avg       0.74      0.21      0.33      3981\n",
      "   macro avg       0.68      0.21      0.32      3981\n",
      "weighted avg       0.73      0.21      0.33      3981\n",
      " samples avg       0.25      0.22      0.22      3981\n",
      "\n"
     ]
    }
   ],
   "source": [
    "from sklearn.ensemble import RandomForestClassifier\n",
    "rfc_classifier = RandomForestClassifier()\n",
    "\n",
    "#Random forest classifier model\n",
    "rfc_clf = OneVsRestClassifier(rfc_classifier)\n",
    "rfc_clf.fit(x_train_multilabel, y_train)\n",
    "\n",
    "rfc_predictions = rfc_clf.predict(x_test_multilabel)\n",
    "\n",
    "print(\"Accuracy of the Random forest Classifier is:\",metrics.accuracy_score(y_test, rfc_predictions))\n",
    "rf_hamming_loss=metrics.hamming_loss(y_test, rfc_predictions)\n",
    "print(\"Hamming loss of the Random forest Classifier is\",rf_hamming_loss)\n",
    "\n",
    "precision_rf = precision_score(y_test, rfc_predictions, average='micro')\n",
    "recall_rf = recall_score(y_test, rfc_predictions, average='micro')\n",
    "f1_rf = f1_score(y_test, rfc_predictions, average='micro')\n",
    " \n",
    "print(\"Micro-average scores\")\n",
    "print(\"Precision are : {:.4f}, Recall are : {:.4f}, F1-measure are : {:.4f}\".format(precision_rf, recall_rf, f1_rf))\n",
    "\n",
    "precision_rf_macro = precision_score(y_test, rfc_predictions, average='macro')\n",
    "recall_rf_macro = recall_score(y_test, rfc_predictions, average='macro')\n",
    "f1_rf_macro = f1_score(y_test, rfc_predictions, average='macro')\n",
    " \n",
    "print(\"Macro-average scores\")\n",
    "print(\"Precision are : {:.4f}, Recall are: {:.4f}, F1-measure are: {:.4f}\".format(precision_rf_macro, recall_rf_macro, f1_rf_macro))\n",
    "\n",
    "print (metrics.classification_report(y_test, rfc_predictions))"
   ]
  },
  {
   "cell_type": "code",
   "execution_count": 52,
   "metadata": {
    "colab": {
     "base_uri": "https://localhost:8080/",
     "height": 685
    },
    "id": "2GA5ohoo9Olj",
    "outputId": "8f64dff1-6d80-4c72-d0c2-2b644b22dd02"
   },
   "outputs": [
    {
     "data": {
      "image/png": "[encoded data removed]",
      "text/plain": [
       "<Figure size 1008x720 with 36 Axes>"
      ]
     },
     "metadata": {
      "needs_background": "light"
     },
     "output_type": "display_data"
    }
   ],
   "source": [
    "#Random forest Classifier\n",
    "from sklearn.metrics import multilabel_confusion_matrix\n",
    "import seaborn as sns\n",
    "\n",
    "labels=total_tags.astype(str).values.tolist()\n",
    "cfs_matrix=multilabel_confusion_matrix(y_test, rfc_predictions)\n",
    "fig, ax = plt.subplots(6, 6, figsize=(14, 10))\n",
    "for axes, cfs_matrix, label in zip(ax.flatten(), cfs_matrix, labels):\n",
    "  print_confusion_matrix(cfs_matrix, axes, label, [\"N\", \"Y\"]) \n",
    "fig.tight_layout()\n",
    "plt.show()"
   ]
  },
  {
   "cell_type": "markdown",
   "metadata": {
    "id": "0q-s5UWxCFwG"
   },
   "source": [
    "**Bi-LSTM model for multi-label classification**"
   ]
  },
  {
   "cell_type": "code",
   "execution_count": 53,
   "metadata": {
    "id": "JMAcGd7r9CvN"
   },
   "outputs": [],
   "source": [
    "from tensorflow.keras.preprocessing.text import Tokenizer\n",
    "\n",
    "#Tokenize the x_train values\n",
    "title_encoder = Tokenizer(oov_token=\"<ukn>\")\n",
    "title_encoder.fit_on_texts(X_train['problem_statement'].values)\n",
    "train_titles = title_encoder.texts_to_sequences(X_train['problem_statement'].values)\n",
    "test_titles = title_encoder.texts_to_sequences(X_test['problem_statement'].values)"
   ]
  },
  {
   "cell_type": "code",
   "execution_count": 54,
   "metadata": {
    "colab": {
     "base_uri": "https://localhost:8080/"
    },
    "id": "4TIav3GRAVMq",
    "outputId": "8a2f589c-3409-40b9-86e6-0d9a14d7dd74"
   },
   "outputs": [
    {
     "data": {
      "text/plain": [
       "28525"
      ]
     },
     "execution_count": 54,
     "metadata": {},
     "output_type": "execute_result"
    }
   ],
   "source": [
    "len(title_encoder.word_index)"
   ]
  },
  {
   "cell_type": "code",
   "execution_count": 55,
   "metadata": {
    "colab": {
     "base_uri": "https://localhost:8080/",
     "height": 282
    },
    "id": "OWmAtZYv_ZJe",
    "outputId": "49db74e9-034f-4deb-8fc2-49055c80cf54"
   },
   "outputs": [
    {
     "data": {
      "text/plain": [
       "[<matplotlib.lines.Line2D at 0x7fb205b3b250>]"
      ]
     },
     "execution_count": 55,
     "metadata": {},
     "output_type": "execute_result"
    },
    {
     "data": {
      "image/png": "[encoded data removed]",
      "text/plain": [
       "<Figure size 432x288 with 1 Axes>"
      ]
     },
     "metadata": {
      "needs_background": "light"
     },
     "output_type": "display_data"
    }
   ],
   "source": [
    "lens = [len(x) for x in train_titles]\n",
    "plt.plot(sorted(lens), list(range(len(lens))))"
   ]
  },
  {
   "cell_type": "markdown",
   "metadata": {
    "id": "BE_IOk6dCW_o"
   },
   "source": [
    "We can see a peak at 250 so we set as padding length."
   ]
  },
  {
   "cell_type": "code",
   "execution_count": 56,
   "metadata": {
    "id": "qsl3ajih-zvN"
   },
   "outputs": [],
   "source": [
    "from tensorflow.keras.preprocessing.sequence import pad_sequences\n",
    "\n",
    "train_titles = pad_sequences(train_titles,maxlen=250)\n",
    "test_titles = pad_sequences(test_titles,maxlen=250)"
   ]
  },
  {
   "cell_type": "code",
   "execution_count": null,
   "metadata": {
    "colab": {
     "base_uri": "https://localhost:8080/"
    },
    "id": "jEovb2G1_sm_",
    "outputId": "b9955ee0-1db9-4a9b-c934-f13c0439150b",
    "scrolled": false
   },
   "outputs": [
    {
     "name": "stdout",
     "output_type": "stream",
     "text": [
      "Epoch 1/100\n",
      "628/628 [==============================] - 18s 24ms/step - loss: 0.3156 - accuracy: 0.0443\n",
      "Epoch 2/100\n",
      "628/628 [==============================] - 15s 24ms/step - loss: 0.2135 - accuracy: 0.0861\n",
      "Epoch 3/100\n",
      "628/628 [==============================] - 15s 24ms/step - loss: 0.2119 - accuracy: 0.0862\n",
      "Epoch 4/100\n",
      "628/628 [==============================] - 15s 24ms/step - loss: 0.2114 - accuracy: 0.0867\n",
      "Epoch 5/100\n",
      "628/628 [==============================] - 15s 24ms/step - loss: 0.2110 - accuracy: 0.0850\n",
      "Epoch 6/100\n",
      "628/628 [==============================] - 15s 24ms/step - loss: 0.2109 - accuracy: 0.0861\n",
      "Epoch 7/100\n",
      "628/628 [==============================] - 15s 24ms/step - loss: 0.2104 - accuracy: 0.0944\n",
      "Epoch 8/100\n",
      "628/628 [==============================] - 15s 24ms/step - loss: 0.2090 - accuracy: 0.0942\n",
      "Epoch 9/100\n",
      "628/628 [==============================] - 15s 24ms/step - loss: 0.2062 - accuracy: 0.1025\n",
      "Epoch 10/100\n",
      "628/628 [==============================] - 15s 24ms/step - loss: 0.2046 - accuracy: 0.1051\n",
      "Epoch 11/100\n",
      "628/628 [==============================] - 15s 23ms/step - loss: 0.2003 - accuracy: 0.1189\n",
      "Epoch 12/100\n",
      "628/628 [==============================] - 15s 23ms/step - loss: 0.1974 - accuracy: 0.1218\n",
      "Epoch 13/100\n",
      "628/628 [==============================] - 15s 23ms/step - loss: 0.1947 - accuracy: 0.1349\n",
      "Epoch 14/100\n",
      "628/628 [==============================] - 15s 23ms/step - loss: 0.1907 - accuracy: 0.1468\n",
      "Epoch 15/100\n",
      "628/628 [==============================] - 15s 23ms/step - loss: 0.1876 - accuracy: 0.1564\n",
      "Epoch 16/100\n",
      "628/628 [==============================] - 15s 23ms/step - loss: 0.1844 - accuracy: 0.1656\n",
      "Epoch 17/100\n",
      "628/628 [==============================] - 15s 23ms/step - loss: 0.1814 - accuracy: 0.1675\n",
      "Epoch 18/100\n",
      "628/628 [==============================] - 15s 23ms/step - loss: 0.1791 - accuracy: 0.1752\n",
      "Epoch 19/100\n",
      "628/628 [==============================] - 15s 23ms/step - loss: 0.1762 - accuracy: 0.1835\n",
      "Epoch 20/100\n",
      "628/628 [==============================] - 15s 23ms/step - loss: 0.1731 - accuracy: 0.1915\n",
      "Epoch 21/100\n",
      "628/628 [==============================] - 15s 23ms/step - loss: 0.1707 - accuracy: 0.1954\n",
      "Epoch 22/100\n",
      "628/628 [==============================] - 15s 23ms/step - loss: 0.1675 - accuracy: 0.2111\n",
      "Epoch 23/100\n",
      "628/628 [==============================] - 15s 23ms/step - loss: 0.1657 - accuracy: 0.2122\n",
      "Epoch 24/100\n",
      "628/628 [==============================] - 15s 23ms/step - loss: 0.1630 - accuracy: 0.2205\n",
      "Epoch 25/100\n",
      "628/628 [==============================] - 15s 23ms/step - loss: 0.1627 - accuracy: 0.2208\n",
      "Epoch 26/100\n",
      "628/628 [==============================] - 15s 23ms/step - loss: 0.1590 - accuracy: 0.2254\n",
      "Epoch 27/100\n",
      "628/628 [==============================] - 15s 23ms/step - loss: 0.1567 - accuracy: 0.2280\n",
      "Epoch 28/100\n",
      "628/628 [==============================] - 15s 23ms/step - loss: 0.1559 - accuracy: 0.2289\n",
      "Epoch 29/100\n",
      "628/628 [==============================] - 15s 23ms/step - loss: 0.1532 - accuracy: 0.2327\n",
      "Epoch 30/100\n",
      "628/628 [==============================] - 15s 23ms/step - loss: 0.1511 - accuracy: 0.2324\n",
      "Epoch 31/100\n",
      "628/628 [==============================] - 15s 23ms/step - loss: 0.1491 - accuracy: 0.2394\n",
      "Epoch 32/100\n",
      "628/628 [==============================] - 15s 23ms/step - loss: 0.1476 - accuracy: 0.2415\n",
      "Epoch 33/100\n",
      "628/628 [==============================] - 15s 24ms/step - loss: 0.1459 - accuracy: 0.2431\n",
      "Epoch 34/100\n",
      "628/628 [==============================] - 15s 24ms/step - loss: 0.1446 - accuracy: 0.2404\n",
      "Epoch 35/100\n",
      "628/628 [==============================] - 15s 23ms/step - loss: 0.1425 - accuracy: 0.2480\n",
      "Epoch 36/100\n",
      "628/628 [==============================] - 15s 23ms/step - loss: 0.1408 - accuracy: 0.2485\n",
      "Epoch 37/100\n",
      "628/628 [==============================] - 15s 23ms/step - loss: 0.1399 - accuracy: 0.2517\n",
      "Epoch 38/100\n",
      "628/628 [==============================] - 15s 23ms/step - loss: 0.1385 - accuracy: 0.2530\n",
      "Epoch 39/100\n",
      "628/628 [==============================] - 15s 23ms/step - loss: 0.1377 - accuracy: 0.2557\n",
      "Epoch 40/100\n",
      "628/628 [==============================] - 15s 23ms/step - loss: 0.1357 - accuracy: 0.2624\n",
      "Epoch 41/100\n",
      "628/628 [==============================] - 15s 23ms/step - loss: 0.1332 - accuracy: 0.2626\n",
      "Epoch 42/100\n",
      "628/628 [==============================] - 15s 23ms/step - loss: 0.1315 - accuracy: 0.2685\n",
      "Epoch 43/100\n",
      "628/628 [==============================] - 15s 23ms/step - loss: 0.1300 - accuracy: 0.2694\n",
      "Epoch 44/100\n",
      "628/628 [==============================] - 15s 23ms/step - loss: 0.1289 - accuracy: 0.2790\n",
      "Epoch 45/100\n",
      "628/628 [==============================] - 15s 23ms/step - loss: 0.1274 - accuracy: 0.2822\n",
      "Epoch 46/100\n",
      "628/628 [==============================] - 15s 23ms/step - loss: 0.1271 - accuracy: 0.2822\n",
      "Epoch 47/100\n",
      "628/628 [==============================] - 15s 23ms/step - loss: 0.1246 - accuracy: 0.2916\n",
      "Epoch 48/100\n",
      "628/628 [==============================] - 15s 23ms/step - loss: 0.1236 - accuracy: 0.2906\n",
      "Epoch 49/100\n",
      "628/628 [==============================] - 15s 23ms/step - loss: 0.1217 - accuracy: 0.2912\n",
      "Epoch 50/100\n",
      "628/628 [==============================] - 15s 23ms/step - loss: 0.1201 - accuracy: 0.2994\n",
      "Epoch 51/100\n",
      "628/628 [==============================] - 15s 23ms/step - loss: 0.1189 - accuracy: 0.2949\n",
      "Epoch 52/100\n",
      "628/628 [==============================] - 15s 23ms/step - loss: 0.1171 - accuracy: 0.3051\n",
      "Epoch 53/100\n",
      "628/628 [==============================] - 15s 23ms/step - loss: 0.1156 - accuracy: 0.3136\n",
      "Epoch 54/100\n",
      "628/628 [==============================] - 15s 23ms/step - loss: 0.1148 - accuracy: 0.3126\n",
      "Epoch 55/100\n",
      "628/628 [==============================] - 15s 23ms/step - loss: 0.1125 - accuracy: 0.3168\n",
      "Epoch 56/100\n",
      "628/628 [==============================] - 15s 23ms/step - loss: 0.1111 - accuracy: 0.3266\n",
      "Epoch 57/100\n",
      "628/628 [==============================] - 15s 23ms/step - loss: 0.1098 - accuracy: 0.3238\n",
      "Epoch 58/100\n",
      "628/628 [==============================] - 15s 23ms/step - loss: 0.1083 - accuracy: 0.3250\n",
      "Epoch 59/100\n",
      "628/628 [==============================] - 15s 23ms/step - loss: 0.1073 - accuracy: 0.3297\n",
      "Epoch 60/100\n",
      "628/628 [==============================] - 15s 23ms/step - loss: 0.1050 - accuracy: 0.3370\n",
      "Epoch 61/100\n",
      "628/628 [==============================] - 15s 24ms/step - loss: 0.1039 - accuracy: 0.3349\n",
      "Epoch 62/100\n",
      "628/628 [==============================] - 15s 24ms/step - loss: 0.1027 - accuracy: 0.3437\n",
      "Epoch 63/100\n",
      "628/628 [==============================] - 15s 23ms/step - loss: 0.1012 - accuracy: 0.3431\n",
      "Epoch 64/100\n",
      "628/628 [==============================] - 15s 23ms/step - loss: 0.1002 - accuracy: 0.3491\n",
      "Epoch 65/100\n",
      "628/628 [==============================] - 15s 23ms/step - loss: 0.0989 - accuracy: 0.3547\n",
      "Epoch 66/100\n",
      "628/628 [==============================] - 15s 23ms/step - loss: 0.0971 - accuracy: 0.3537\n",
      "Epoch 67/100\n",
      "628/628 [==============================] - 15s 23ms/step - loss: 0.0959 - accuracy: 0.3603\n",
      "Epoch 68/100\n",
      "628/628 [==============================] - 15s 23ms/step - loss: 0.0942 - accuracy: 0.3663\n",
      "Epoch 69/100\n",
      "628/628 [==============================] - 15s 23ms/step - loss: 0.0939 - accuracy: 0.3655\n",
      "Epoch 70/100\n",
      "628/628 [==============================] - 15s 23ms/step - loss: 0.0925 - accuracy: 0.3686\n",
      "Epoch 71/100\n",
      "628/628 [==============================] - 15s 24ms/step - loss: 0.0911 - accuracy: 0.3761\n",
      "Epoch 72/100\n",
      "628/628 [==============================] - 15s 23ms/step - loss: 0.0897 - accuracy: 0.3764\n",
      "Epoch 73/100\n",
      "628/628 [==============================] - 15s 23ms/step - loss: 0.0888 - accuracy: 0.3740\n",
      "Epoch 74/100\n",
      "628/628 [==============================] - 15s 23ms/step - loss: 0.0879 - accuracy: 0.3820\n",
      "Epoch 75/100\n",
      "628/628 [==============================] - 15s 23ms/step - loss: 0.0863 - accuracy: 0.3820\n",
      "Epoch 76/100\n",
      "628/628 [==============================] - 15s 23ms/step - loss: 0.0853 - accuracy: 0.3899\n",
      "Epoch 77/100\n",
      "628/628 [==============================] - 15s 23ms/step - loss: 0.0836 - accuracy: 0.3886\n",
      "Epoch 78/100\n",
      "628/628 [==============================] - 15s 23ms/step - loss: 0.0832 - accuracy: 0.3931\n",
      "Epoch 79/100\n",
      "628/628 [==============================] - 15s 23ms/step - loss: 0.0822 - accuracy: 0.3963\n",
      "Epoch 80/100\n",
      "628/628 [==============================] - 15s 23ms/step - loss: 0.0822 - accuracy: 0.3934\n",
      "Epoch 81/100\n",
      "628/628 [==============================] - 15s 23ms/step - loss: 0.0794 - accuracy: 0.3969\n",
      "Epoch 82/100\n",
      "628/628 [==============================] - 15s 23ms/step - loss: 0.0788 - accuracy: 0.4014\n",
      "Epoch 83/100\n",
      "628/628 [==============================] - 15s 23ms/step - loss: 0.0782 - accuracy: 0.3944\n",
      "Epoch 84/100\n",
      "628/628 [==============================] - 15s 23ms/step - loss: 0.0770 - accuracy: 0.4063\n",
      "Epoch 85/100\n",
      "628/628 [==============================] - 15s 23ms/step - loss: 0.0768 - accuracy: 0.4028\n",
      "Epoch 86/100\n",
      "628/628 [==============================] - 15s 23ms/step - loss: 0.0750 - accuracy: 0.4083\n",
      "Epoch 87/100\n",
      "628/628 [==============================] - 15s 23ms/step - loss: 0.0738 - accuracy: 0.4105\n",
      "Epoch 88/100\n",
      "628/628 [==============================] - 15s 23ms/step - loss: 0.0731 - accuracy: 0.4158\n",
      "Epoch 89/100\n",
      "628/628 [==============================] - 15s 23ms/step - loss: 0.0721 - accuracy: 0.4118\n",
      "Epoch 90/100\n",
      "628/628 [==============================] - 15s 24ms/step - loss: 0.0712 - accuracy: 0.4103\n",
      "Epoch 91/100\n",
      "628/628 [==============================] - 15s 24ms/step - loss: 0.0704 - accuracy: 0.4154\n",
      "Epoch 92/100\n",
      "628/628 [==============================] - 15s 23ms/step - loss: 0.0697 - accuracy: 0.4145\n",
      "Epoch 93/100\n",
      "628/628 [==============================] - 15s 23ms/step - loss: 0.0686 - accuracy: 0.4148\n",
      "Epoch 94/100\n",
      "628/628 [==============================] - 15s 23ms/step - loss: 0.0681 - accuracy: 0.4154\n",
      "Epoch 95/100\n",
      "628/628 [==============================] - 15s 23ms/step - loss: 0.0673 - accuracy: 0.4218\n",
      "Epoch 96/100\n",
      "628/628 [==============================] - 15s 23ms/step - loss: 0.0661 - accuracy: 0.4205\n",
      "Epoch 97/100\n",
      "628/628 [==============================] - 15s 23ms/step - loss: 0.0658 - accuracy: 0.4191\n",
      "Epoch 98/100\n",
      "628/628 [==============================] - 15s 23ms/step - loss: 0.0646 - accuracy: 0.4223\n",
      "Epoch 99/100\n",
      "628/628 [==============================] - 15s 23ms/step - loss: 0.0639 - accuracy: 0.4232\n",
      "Epoch 100/100\n",
      "628/628 [==============================] - 15s 23ms/step - loss: 0.0630 - accuracy: 0.4216\n",
      "              precision    recall  f1-score   support\n",
      "\n",
      "           0       0.56      0.38      0.45        85\n",
      "           1       0.00      0.00      0.00         2\n",
      "           2       0.33      0.25      0.28       153\n",
      "           3       0.15      0.08      0.11        61\n",
      "           4       0.25      0.19      0.21       228\n",
      "           5       0.00      0.00      0.00         3\n",
      "           6       0.48      0.22      0.30        91\n",
      "           7       0.45      0.35      0.40       223\n",
      "           8       0.53      0.42      0.47       277\n",
      "           9       0.47      0.41      0.44       136\n",
      "          10       0.00      0.00      0.00        38\n",
      "          11       0.48      0.39      0.43       341\n",
      "          12       0.40      0.08      0.13        53\n",
      "          13       0.00      0.00      0.00         5\n",
      "          14       1.00      0.11      0.20         9\n",
      "          15       0.14      0.10      0.11        21\n",
      "          16       0.78      0.44      0.56        32\n",
      "          17       0.65      0.32      0.42        76\n",
      "          18       0.00      0.00      0.00         9\n",
      "          19       0.58      0.50      0.54       181\n",
      "          20       0.44      0.46      0.45       368\n",
      "          21       0.44      0.17      0.24        42\n",
      "          22       0.47      0.40      0.43       446\n",
      "          23       0.76      0.59      0.67        27\n",
      "          24       0.45      0.47      0.46       366\n",
      "          25       0.00      0.00      0.00        23\n",
      "          26       0.00      0.00      0.00         7\n",
      "          27       0.42      0.35      0.38       113\n",
      "          28       0.52      0.39      0.45        38\n",
      "          29       0.00      0.00      0.00         1\n",
      "          30       0.44      0.23      0.30        53\n",
      "          31       0.30      0.16      0.21       143\n",
      "          32       0.51      0.50      0.50       112\n",
      "          33       0.50      0.16      0.24        19\n",
      "          34       1.00      0.12      0.22         8\n",
      "          35       0.56      0.44      0.49       130\n",
      "          36       0.17      0.07      0.09        61\n",
      "\n",
      "   micro avg       0.46      0.35      0.40      3981\n",
      "   macro avg       0.39      0.24      0.28      3981\n",
      "weighted avg       0.44      0.35      0.39      3981\n",
      " samples avg       0.44      0.39      0.38      3981\n",
      "\n"
     ]
    }
   ],
   "source": [
    "# mlp for multi-label classification\n",
    "from numpy import mean\n",
    "from numpy import std\n",
    "from sklearn.datasets import make_multilabel_classification\n",
    "from sklearn.model_selection import RepeatedKFold\n",
    "from keras.models import Sequential\n",
    "from keras.layers import Dense\n",
    "import tensorflow.keras as keras\n",
    "from sklearn.metrics import accuracy_score\n",
    "from tqdm import tqdm\n",
    "import numpy as np\n",
    "import tensorflow as tf\n",
    "from tensorflow.keras.layers import Bidirectional, GlobalMaxPool1D, Dense, LSTM, Conv1D, Embedding\n",
    "\n",
    "\n",
    "# get the model\n",
    "def get_model(n_inputs, n_outputs):\n",
    "\n",
    "  bilstm = tf.keras.Sequential()\n",
    "  bilstm.add(tf.keras.layers.Embedding(input_dim = 28525+1,output_dim = 100,input_length=250))\n",
    "  bilstm.add(tf.keras.layers.Bidirectional(LSTM(100, dropout=0.25,return_sequences=False)))\n",
    "  bilstm.add(tf.keras.layers.Dense(20,input_dim=n_inputs, activation='relu'))\n",
    "  bilstm.add(tf.keras.layers.Dense(37, activation='sigmoid'))\n",
    "  bilstm.compile(loss=\"binary_crossentropy\", optimizer=tf.keras.optimizers.Adam(learning_rate=0.0001), metrics=['accuracy'])\n",
    "  return bilstm\n",
    "\n",
    "# evaluate a model using repeated k-fold cross-validation\n",
    "def evaluate_model(X, y,n_input,n_output):\n",
    "  results=list()\n",
    "  model = get_model(n_input, n_output)\n",
    "  model.fit(X, y, verbose=1, epochs=100, batch_size=10)\n",
    "  yhat=model.predict(test_titles)\n",
    "  return yhat\n",
    "\n",
    "\n",
    "n_input=x_train_multilabel.shape[1]\n",
    "n_output=y_train.shape[1]\n",
    "train_x = x_train_multilabel.toarray()\n",
    "train_y = y_train.toarray()\n",
    "validation_x = x_test_multilabel.toarray()\n",
    "validation_y = y_test.toarray()\n",
    "\n",
    "# evaluate model\n",
    "yhat=evaluate_model(train_titles, y_train.toarray(),n_input,n_output)\n",
    "yhat[yhat>0.5] = 1\n",
    "yhat[yhat<=0.5] = 0\n",
    "print(metrics.classification_report(y_test, yhat))"
   ]
  },
  {
   "cell_type": "code",
   "execution_count": 57,
   "metadata": {
    "colab": {
     "base_uri": "https://localhost:8080/"
    },
    "id": "GD5BLJDkMzGK",
    "outputId": "d582fcc1-376c-4e0a-8255-7b937ff94a2e",
    "scrolled": false
   },
   "outputs": [
    {
     "name": "stdout",
     "output_type": "stream",
     "text": [
      "Epoch 1/50\n",
      "6273/6273 [==============================] - 111s 17ms/step - loss: 0.2429 - accuracy: 0.0744\n",
      "Epoch 2/50\n",
      "6273/6273 [==============================] - 104s 17ms/step - loss: 0.2112 - accuracy: 0.0800\n",
      "Epoch 3/50\n",
      "6273/6273 [==============================] - 104s 17ms/step - loss: 0.2093 - accuracy: 0.0861\n",
      "Epoch 4/50\n",
      "6273/6273 [==============================] - 103s 16ms/step - loss: 0.2057 - accuracy: 0.0958\n",
      "Epoch 5/50\n",
      "6273/6273 [==============================] - 104s 17ms/step - loss: 0.2006 - accuracy: 0.1036\n",
      "Epoch 6/50\n",
      "6273/6273 [==============================] - 104s 17ms/step - loss: 0.1959 - accuracy: 0.1121\n",
      "Epoch 7/50\n",
      "6273/6273 [==============================] - 104s 17ms/step - loss: 0.1911 - accuracy: 0.1200\n",
      "Epoch 8/50\n",
      "6273/6273 [==============================] - 104s 17ms/step - loss: 0.1867 - accuracy: 0.1278\n",
      "Epoch 9/50\n",
      "6273/6273 [==============================] - 103s 16ms/step - loss: 0.1821 - accuracy: 0.1275\n",
      "Epoch 10/50\n",
      "6273/6273 [==============================] - 102s 16ms/step - loss: 0.1772 - accuracy: 0.1393\n",
      "Epoch 11/50\n",
      "6273/6273 [==============================] - 102s 16ms/step - loss: 0.1722 - accuracy: 0.1527\n",
      "Epoch 12/50\n",
      "6273/6273 [==============================] - 101s 16ms/step - loss: 0.1685 - accuracy: 0.1640\n",
      "Epoch 13/50\n",
      "6273/6273 [==============================] - 103s 16ms/step - loss: 0.1635 - accuracy: 0.1846\n",
      "Epoch 14/50\n",
      "6273/6273 [==============================] - 103s 16ms/step - loss: 0.1590 - accuracy: 0.1942\n",
      "Epoch 15/50\n",
      "6273/6273 [==============================] - 103s 16ms/step - loss: 0.1547 - accuracy: 0.2087\n",
      "Epoch 16/50\n",
      "6273/6273 [==============================] - 102s 16ms/step - loss: 0.1511 - accuracy: 0.2233\n",
      "Epoch 17/50\n",
      "6273/6273 [==============================] - 102s 16ms/step - loss: 0.1462 - accuracy: 0.2326\n",
      "Epoch 18/50\n",
      "6273/6273 [==============================] - 102s 16ms/step - loss: 0.1420 - accuracy: 0.2492\n",
      "Epoch 19/50\n",
      "6273/6273 [==============================] - 102s 16ms/step - loss: 0.1382 - accuracy: 0.2630\n",
      "Epoch 20/50\n",
      "6273/6273 [==============================] - 102s 16ms/step - loss: 0.1344 - accuracy: 0.2740\n",
      "Epoch 21/50\n",
      "6273/6273 [==============================] - 101s 16ms/step - loss: 0.1305 - accuracy: 0.2909\n",
      "Epoch 22/50\n",
      "6273/6273 [==============================] - 101s 16ms/step - loss: 0.1272 - accuracy: 0.3037\n",
      "Epoch 23/50\n",
      "6273/6273 [==============================] - 101s 16ms/step - loss: 0.1236 - accuracy: 0.3152\n",
      "Epoch 24/50\n",
      "6273/6273 [==============================] - 102s 16ms/step - loss: 0.1203 - accuracy: 0.3293\n",
      "Epoch 25/50\n",
      "6273/6273 [==============================] - 101s 16ms/step - loss: 0.1171 - accuracy: 0.3327\n",
      "Epoch 26/50\n",
      "6273/6273 [==============================] - 101s 16ms/step - loss: 0.1139 - accuracy: 0.3472\n",
      "Epoch 27/50\n",
      "6273/6273 [==============================] - 102s 16ms/step - loss: 0.1110 - accuracy: 0.3529\n",
      "Epoch 28/50\n",
      "6273/6273 [==============================] - 102s 16ms/step - loss: 0.1085 - accuracy: 0.3600\n",
      "Epoch 29/50\n",
      "6273/6273 [==============================] - 102s 16ms/step - loss: 0.1057 - accuracy: 0.3668\n",
      "Epoch 30/50\n",
      "6273/6273 [==============================] - 103s 16ms/step - loss: 0.1030 - accuracy: 0.3828\n",
      "Epoch 31/50\n",
      "6273/6273 [==============================] - 103s 16ms/step - loss: 0.1004 - accuracy: 0.3880\n",
      "Epoch 32/50\n",
      "6273/6273 [==============================] - 103s 16ms/step - loss: 0.0978 - accuracy: 0.3907\n",
      "Epoch 33/50\n",
      "6273/6273 [==============================] - 102s 16ms/step - loss: 0.0953 - accuracy: 0.3939\n",
      "Epoch 34/50\n",
      "6273/6273 [==============================] - 103s 16ms/step - loss: 0.0934 - accuracy: 0.3942\n",
      "Epoch 35/50\n",
      "6273/6273 [==============================] - 103s 16ms/step - loss: 0.0908 - accuracy: 0.4054\n",
      "Epoch 36/50\n",
      "6273/6273 [==============================] - 103s 16ms/step - loss: 0.0884 - accuracy: 0.4054\n",
      "Epoch 37/50\n",
      "6273/6273 [==============================] - 103s 16ms/step - loss: 0.0865 - accuracy: 0.4127\n",
      "Epoch 38/50\n",
      "6273/6273 [==============================] - 103s 16ms/step - loss: 0.0841 - accuracy: 0.4175\n",
      "Epoch 39/50\n",
      "6273/6273 [==============================] - 103s 16ms/step - loss: 0.0822 - accuracy: 0.4232\n",
      "Epoch 40/50\n",
      "6273/6273 [==============================] - 104s 17ms/step - loss: 0.0808 - accuracy: 0.4244\n",
      "Epoch 41/50\n",
      "6273/6273 [==============================] - 104s 17ms/step - loss: 0.0781 - accuracy: 0.4296\n",
      "Epoch 42/50\n",
      "6273/6273 [==============================] - 104s 17ms/step - loss: 0.0765 - accuracy: 0.4303\n",
      "Epoch 43/50\n",
      "6273/6273 [==============================] - 104s 17ms/step - loss: 0.0749 - accuracy: 0.4342\n",
      "Epoch 44/50\n",
      "6273/6273 [==============================] - 103s 16ms/step - loss: 0.0729 - accuracy: 0.4358\n",
      "Epoch 45/50\n",
      "6273/6273 [==============================] - 103s 16ms/step - loss: 0.0714 - accuracy: 0.4408\n",
      "Epoch 46/50\n",
      "6273/6273 [==============================] - 104s 17ms/step - loss: 0.0699 - accuracy: 0.4432\n",
      "Epoch 47/50\n",
      "6273/6273 [==============================] - 105s 17ms/step - loss: 0.0676 - accuracy: 0.4441\n",
      "Epoch 48/50\n",
      "6273/6273 [==============================] - 105s 17ms/step - loss: 0.0661 - accuracy: 0.4486\n",
      "Epoch 49/50\n",
      "6273/6273 [==============================] - 105s 17ms/step - loss: 0.0651 - accuracy: 0.4540\n",
      "Epoch 50/50\n",
      "6273/6273 [==============================] - 104s 17ms/step - loss: 0.0630 - accuracy: 0.4570\n",
      "              precision    recall  f1-score   support\n",
      "\n",
      "           0       0.54      0.31      0.39        85\n",
      "           1       0.00      0.00      0.00         2\n",
      "           2       0.23      0.24      0.23       153\n",
      "           3       0.09      0.07      0.08        61\n",
      "           4       0.22      0.25      0.23       228\n",
      "           5       0.00      0.00      0.00         3\n",
      "           6       0.48      0.32      0.38        91\n",
      "           7       0.38      0.30      0.34       223\n",
      "           8       0.46      0.43      0.45       277\n",
      "           9       0.47      0.38      0.42       136\n",
      "          10       0.10      0.03      0.04        38\n",
      "          11       0.41      0.45      0.43       341\n",
      "          12       0.14      0.02      0.03        53\n",
      "          13       0.00      0.00      0.00         5\n",
      "          14       0.33      0.11      0.17         9\n",
      "          15       0.00      0.00      0.00        21\n",
      "          16       1.00      0.09      0.17        32\n",
      "          17       0.53      0.45      0.49        76\n",
      "          18       0.00      0.00      0.00         9\n",
      "          19       0.61      0.52      0.56       181\n",
      "          20       0.47      0.52      0.50       368\n",
      "          21       0.62      0.19      0.29        42\n",
      "          22       0.54      0.37      0.44       446\n",
      "          23       0.63      0.63      0.63        27\n",
      "          24       0.53      0.45      0.49       366\n",
      "          25       0.50      0.13      0.21        23\n",
      "          26       0.25      0.14      0.18         7\n",
      "          27       0.54      0.27      0.36       113\n",
      "          28       0.52      0.42      0.46        38\n",
      "          29       0.00      0.00      0.00         1\n",
      "          30       0.63      0.23      0.33        53\n",
      "          31       0.28      0.29      0.29       143\n",
      "          32       0.51      0.62      0.56       112\n",
      "          33       0.57      0.21      0.31        19\n",
      "          34       0.00      0.00      0.00         8\n",
      "          35       0.50      0.50      0.50       130\n",
      "          36       0.10      0.15      0.12        61\n",
      "\n",
      "   micro avg       0.43      0.37      0.40      3981\n",
      "   macro avg       0.36      0.25      0.27      3981\n",
      "weighted avg       0.44      0.37      0.39      3981\n",
      " samples avg       0.43      0.40      0.38      3981\n",
      "\n"
     ]
    }
   ],
   "source": [
    " # mlp for multi-label classification\n",
    "from numpy import mean\n",
    "from numpy import std\n",
    "from sklearn.datasets import make_multilabel_classification\n",
    "from sklearn.model_selection import RepeatedKFold\n",
    "from keras.models import Sequential\n",
    "from keras.layers import Dense\n",
    "import tensorflow.keras as keras\n",
    "from sklearn.metrics import accuracy_score\n",
    "from tqdm import tqdm\n",
    "import numpy as np\n",
    "import tensorflow as tf\n",
    "from tensorflow.keras.layers import Bidirectional, GlobalMaxPool1D, Dense, LSTM, Conv1D, Embedding\n",
    "\n",
    "\n",
    "# get the model\n",
    "def get_model(n_inputs, n_outputs):\n",
    "\n",
    "  bilstm = tf.keras.Sequential()\n",
    "  bilstm.add(tf.keras.layers.Embedding(input_dim = 28525+1,output_dim = 100,input_length=250))\n",
    "  bilstm.add(tf.keras.layers.Bidirectional(LSTM(100, dropout=0.25,return_sequences=False)))\n",
    "  bilstm.add(tf.keras.layers.Dense(20,input_dim=n_inputs, activation='relu'))\n",
    "  bilstm.add(tf.keras.layers.Dense(37, activation='sigmoid'))\n",
    "  bilstm.compile(loss=\"binary_crossentropy\", optimizer=tf.keras.optimizers.Adam(learning_rate=0.0001), metrics=['accuracy'])\n",
    "  return bilstm\n",
    "\n",
    "# evaluate a model using repeated k-fold cross-validation\n",
    "def evaluate_model(X, y,n_input,n_output):\n",
    "  results=list()\n",
    "  model = get_model(n_input, n_output)\n",
    "  model.fit(X, y, verbose=1, epochs=50, batch_size=1)\n",
    "  yhat=model.predict(test_titles)\n",
    "  return yhat\n",
    "\n",
    "\n",
    "n_input=x_train_multilabel.shape[1]\n",
    "n_output=y_train.shape[1]\n",
    "train_x = x_train_multilabel.toarray()\n",
    "train_y = y_train.toarray()\n",
    "validation_x = x_test_multilabel.toarray()\n",
    "validation_y = y_test.toarray()\n",
    "\n",
    "# evaluate model\n",
    "yhat=evaluate_model(train_titles, y_train.toarray(),n_input,n_output)\n",
    "yhat[yhat>0.5] = 1\n",
    "yhat[yhat<=0.5] = 0\n",
    "print(metrics.classification_report(y_test, yhat))"
   ]
  },
  {
   "cell_type": "code",
   "execution_count": 59,
   "metadata": {
    "colab": {
     "base_uri": "https://localhost:8080/"
    },
    "id": "F6OijdgQYS8M",
    "outputId": "e29234dd-2ab9-4542-f9d3-7efd4dd4392d"
   },
   "outputs": [
    {
     "name": "stdout",
     "output_type": "stream",
     "text": [
      "Accuracy of the Bilstm is: 0.08030592734225621\n",
      "Hamming loss of the Bilstm is 0.07670576886638072\n",
      "Micro-average scores\n",
      "Precision are : 0.3564, Recall are : 0.2451, F1-measure are : 0.2720\n",
      "Macro-average scores\n",
      "Precision are : 0.3564, Recall are: 0.2451, F1-measure are: 0.2720\n",
      "              precision    recall  f1-score   support\n",
      "\n",
      "           0       0.54      0.31      0.39        85\n",
      "           1       0.00      0.00      0.00         2\n",
      "           2       0.23      0.24      0.23       153\n",
      "           3       0.09      0.07      0.08        61\n",
      "           4       0.22      0.25      0.23       228\n",
      "           5       0.00      0.00      0.00         3\n",
      "           6       0.48      0.32      0.38        91\n",
      "           7       0.38      0.30      0.34       223\n",
      "           8       0.46      0.43      0.45       277\n",
      "           9       0.47      0.38      0.42       136\n",
      "          10       0.10      0.03      0.04        38\n",
      "          11       0.41      0.45      0.43       341\n",
      "          12       0.14      0.02      0.03        53\n",
      "          13       0.00      0.00      0.00         5\n",
      "          14       0.33      0.11      0.17         9\n",
      "          15       0.00      0.00      0.00        21\n",
      "          16       1.00      0.09      0.17        32\n",
      "          17       0.53      0.45      0.49        76\n",
      "          18       0.00      0.00      0.00         9\n",
      "          19       0.61      0.52      0.56       181\n",
      "          20       0.47      0.52      0.50       368\n",
      "          21       0.62      0.19      0.29        42\n",
      "          22       0.54      0.37      0.44       446\n",
      "          23       0.63      0.63      0.63        27\n",
      "          24       0.53      0.45      0.49       366\n",
      "          25       0.50      0.13      0.21        23\n",
      "          26       0.25      0.14      0.18         7\n",
      "          27       0.54      0.27      0.36       113\n",
      "          28       0.52      0.42      0.46        38\n",
      "          29       0.00      0.00      0.00         1\n",
      "          30       0.63      0.23      0.33        53\n",
      "          31       0.28      0.29      0.29       143\n",
      "          32       0.51      0.62      0.56       112\n",
      "          33       0.57      0.21      0.31        19\n",
      "          34       0.00      0.00      0.00         8\n",
      "          35       0.50      0.50      0.50       130\n",
      "          36       0.10      0.15      0.12        61\n",
      "\n",
      "   micro avg       0.43      0.37      0.40      3981\n",
      "   macro avg       0.36      0.25      0.27      3981\n",
      "weighted avg       0.44      0.37      0.39      3981\n",
      " samples avg       0.43      0.40      0.38      3981\n",
      "\n"
     ]
    }
   ],
   "source": [
    "\n",
    "#Classification and Performance Metric Calculation.\n",
    "print(\"Accuracy of the Bilstm is:\",metrics.accuracy_score(y_test, yhat))\n",
    "print(\"Hamming loss of the Bilstm is\",metrics.hamming_loss(y_test,yhat))\n",
    "\n",
    "precision_bilstm = precision_score(y_test, yhat, average='micro')\n",
    "recall_bilstm = recall_score(y_test, yhat, average='micro')\n",
    "f1_bisltm = f1_score(y_test, yhat, average='micro')\n",
    "hamming_bilstm=metrics.hamming_loss(y_test,yhat)\n",
    " \n",
    "print(\"Micro-average scores\")\n",
    "print(\"Precision are : {:.4f}, Recall are : {:.4f}, F1-measure are : {:.4f}\".format(precision, recall, f1))\n",
    "\n",
    "precision = precision_score(y_test, yhat, average='macro')\n",
    "recall = recall_score(y_test, yhat, average='macro')\n",
    "f1 = f1_score(y_test, yhat, average='macro')\n",
    " \n",
    "print(\"Macro-average scores\")\n",
    "print(\"Precision are : {:.4f}, Recall are: {:.4f}, F1-measure are: {:.4f}\".format(precision, recall, f1))\n",
    "\n",
    "print (metrics.classification_report(y_test, yhat))"
   ]
  },
  {
   "cell_type": "markdown",
   "metadata": {
    "id": "SVwnhl2lWd7-"
   },
   "source": [
    "**Observation**\n",
    "Bilstm model gave a f1 score 0.40 even with batch_size=1 and epochs=50. This is due to overfitting.\n"
   ]
  },
  {
   "cell_type": "markdown",
   "metadata": {
    "id": "MKkzl0aTGMNy"
   },
   "source": [
    "**Future Work**\n",
    "\n",
    "For better f1 score values we can implement the SentenceTransformers as a future work. It works well with image and text embeddings"
   ]
  },
  {
   "cell_type": "markdown",
   "metadata": {
    "id": "DPJRffqCZUgo"
   },
   "source": [
    "**Performance Metrics**"
   ]
  },
  {
   "cell_type": "code",
   "execution_count": 59,
   "metadata": {},
   "outputs": [
    {
     "name": "stdout",
     "output_type": "stream",
     "text": [
      "Performance Metrics\n",
      "\n",
      "  Sl-no  Algorithm                   Precision    Recall    Micro-f1score    Hamming-loss\n",
      "-------  ------------------------  -----------  --------  ---------------  --------------\n",
      "      1  Logistic-Regression             0.607     0.4              0.482           0.059\n",
      "      2  Random Forest Classifier        0.739     0.214            0.332           0.059\n",
      "      3  Bidirectional-lstm              0.431     0.371            0.398           0.077\n",
      "      4  SGDClassifier                   0.546     0.422            0.476           0.064\n"
     ]
    }
   ],
   "source": [
    " from tabulate import tabulate\n",
    "\n",
    " print(\"Performance Metrics\\n\")\n",
    " d = [[1,\"Logistic-Regression\", round(precision_score(y_test, predictions, average='micro'),3), round(recall_score(y_test, predictions, average='micro'),3),round(f1_score(y_test, predictions, average='micro'),3),round(metrics.hamming_loss(y_test,predictions),3)],\n",
    "     [2,\"Random Forest Classifier\", round(precision_rf ,3), round(recall_rf ,3),round(f1_rf,3),round(rf_hamming_loss,3)],\n",
    "     [3,\"Bidirectional-lstm\",round(precision_bilstm ,3),round(recall_bilstm ,3),round(f1_bisltm ,3),round(hamming_bilstm,3)],\n",
    "     [4,\"SGDClassifier\",round(precision_score(y_test, predictions_sdg, average='micro'),3), round(recall_score(y_test, predictions_sdg, average='micro'),3),round(f1_score(y_test, predictions_sdg, average='micro'),3),round(metrics.hamming_loss(y_test,predictions_sdg),3)]]\n",
    "     \n",
    "print(tabulate(d, headers=['Sl-no','Algorithm','Precision','Recall','Micro-f1score','Hamming-loss']))"
   ]
  },
  {
   "cell_type": "markdown",
   "metadata": {
    "id": "cDQw0wjGcDxT"
   },
   "source": [
    "**Model Performance Conclusion**\n",
    "\n",
    "From the above table we can see that Logistic Regression has the best f1-score compared to random forest regressor and lstm . This may be due to small dataset size and also overfitting. Techniques like oversampling or undersampling can be applied to make the dataset with various tags more balanced. As the dataset is small , machine learning model is performing better than deep learning model. \n",
    "\n",
    "However, Bert can be used to improve the f1-score further.\n"
   ]
  },
  {
   "cell_type": "code",
   "execution_count": null,
   "metadata": {
    "id": "PTMJRhGqdpZh"
   },
   "outputs": [],
   "source": []
  }
 ],
 "metadata": {
  "accelerator": "GPU",
  "colab": {
   "collapsed_sections": [],
   "machine_shape": "hm",
   "name": "ML_Project_Final_CodeForce (1).ipynb",
   "provenance": []
  },
  "kernelspec": {
   "display_name": "Python 3",
   "language": "python",
   "name": "python3"
  },
  "language_info": {
   "codemirror_mode": {
    "name": "ipython",
    "version": 3
   },
   "file_extension": ".py",
   "mimetype": "text/x-python",
   "name": "python",
   "nbconvert_exporter": "python",
   "pygments_lexer": "ipython3",
   "version": "3.8.5"
  }
 },
 "nbformat": 4,
 "nbformat_minor": 5
}
